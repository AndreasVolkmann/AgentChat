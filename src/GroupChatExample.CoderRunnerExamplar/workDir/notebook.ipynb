{
 "cells": [
  {
   "cell_type": "code",
   "execution_count": null,
   "metadata": {
    "dotnet_interactive": {
     "language": "csharp"
    },
    "polyglot_notebook": {
     "kernelName": "csharp"
    }
   },
   "outputs": [],
   "source": [
    "#r \"nuget:Microsoft.ML, 1.5.2\"\n",
    "#r \"nuget:Microsoft.ML.LightGbm, 1.5.2\""
   ]
  },
  {
   "cell_type": "code",
   "execution_count": null,
   "metadata": {
    "dotnet_interactive": {
     "language": "csharp"
    },
    "polyglot_notebook": {
     "kernelName": "csharp"
    }
   },
   "outputs": [],
   "source": [
    "using Microsoft.ML;\n",
    "using Microsoft.ML.Data;\n",
    "using System;\n",
    "using System.Collections.Generic;\n",
    "using System.Linq;\n",
    "\n",
    "// Define data structure\n",
    "public class BinaryClassificationData\n",
    "{\n",
    "    [LoadColumn(0)] public float Feature1;\n",
    "    [LoadColumn(1)] public float Feature2;\n",
    "    [LoadColumn(2)] public float Feature3;\n",
    "    [LoadColumn(3)] public float Feature4;\n",
    "    [LoadColumn(4)] public bool Label;\n",
    "}\n",
    "\n",
    "// Generate dummy data\n",
    "var rnd = new Random();\n",
    "var data = Enumerable.Range(0, 100)\n",
    "            .Select(_ => new BinaryClassificationData\n",
    "            {\n",
    "                Feature1 = (float)rnd.NextDouble(),\n",
    "                Feature2 = (float)rnd.NextDouble(),\n",
    "                Feature3 = (float)rnd.NextDouble(),\n",
    "                Feature4 = (float)rnd.NextDouble(),\n",
    "                Label = rnd.Next(2) == 1\n",
    "            }).ToList();"
   ]
  },
  {
   "cell_type": "code",
   "execution_count": null,
   "metadata": {
    "dotnet_interactive": {
     "language": "csharp"
    },
    "polyglot_notebook": {
     "kernelName": "csharp"
    }
   },
   "outputs": [],
   "source": [
    "using Microsoft.ML.Transforms;\n",
    "\n",
    "// Create mlContext\n",
    "var mlContext = new MLContext();\n",
    "\n",
    "// Create dataView from List\n",
    "var dataView = mlContext.Data.LoadFromEnumerable(data);\n",
    "\n",
    "// Define the pipeline\n",
    "var pipeline = mlContext.Transforms.Concatenate(\"Features\", \"Feature1\", \"Feature2\", \"Feature3\", \"Feature4\")\n",
    "    .Append(mlContext.BinaryClassification.Trainers.LightGbm(labelColumnName: \"Label\", featureColumnName: \"Features\"));"
   ]
  },
  {
   "cell_type": "code",
   "execution_count": null,
   "metadata": {
    "dotnet_interactive": {
     "language": "csharp"
    },
    "polyglot_notebook": {
     "kernelName": "csharp"
    }
   },
   "outputs": [],
   "source": [
    "// Define the data preprocessing pipeline\n",
    "var preprocessingPipeline = mlContext.Transforms.Concatenate(\"Features\", \"Feature1\", \"Feature2\", \"Feature3\", \"Feature4\")\n",
    "    .Append(mlContext.Transforms.NormalizeMinMax(\"Features\"));\n",
    "\n",
    "// Define the training pipeline using LightGBM\n",
    "var trainer = mlContext.BinaryClassification.Trainers.LightGbm();\n",
    "\n",
    "// Create the training pipeline\n",
    "var trainingPipeline = preprocessingPipeline.Append(trainer);\n",
    "\n",
    "// Train the model\n",
    "var model = trainingPipeline.Fit(dataView);\n",
    "\n",
    "// Perform predictions on train data to get metrics\n",
    "var predTransform = model.Transform(dataView);\n",
    "var metrics = mlContext.BinaryClassification.Evaluate(predTransform);\n",
    "\n",
    "Console.WriteLine($\"Model quality metrics evaluation\");\n",
    "Console.WriteLine($\"--------------------------------\");\n",
    "Console.WriteLine($\"Accuracy: {metrics.Accuracy:P2}\");\n"
   ]
  },
  {
   "cell_type": "code",
   "execution_count": null,
   "metadata": {
    "dotnet_interactive": {
     "language": "csharp"
    },
    "polyglot_notebook": {
     "kernelName": "csharp"
    }
   },
   "outputs": [],
   "source": [
    "mlContext.Model.Save(model, dataView.Schema, \"lgbm.mlnet\");\n",
    "Console.WriteLine(\"Model saved to 'lgbm.mlnet'\");"
   ]
  },
  {
   "cell_type": "code",
   "execution_count": null,
   "metadata": {
    "dotnet_interactive": {
     "language": "csharp"
    },
    "polyglot_notebook": {
     "kernelName": "csharp"
    }
   },
   "outputs": [],
   "source": [
    "Console.WriteLine($\"Model quality metrics evaluation\");\n",
    "Console.WriteLine($\"--------------------------------\");\n",
    "Console.WriteLine($\"Accuracy: {metrics.Accuracy:P2}\");"
   ]
  },
  {
   "cell_type": "code",
   "execution_count": null,
   "metadata": {
    "dotnet_interactive": {
     "language": "csharp"
    },
    "polyglot_notebook": {
     "kernelName": "csharp"
    }
   },
   "outputs": [],
   "source": [
    "mlContext.Model.Save(model, dataView.Schema, \"lgbm.mlnet\");\n",
    "Console.WriteLine(\"Model saved to 'lgbm.mlnet'\");"
   ]
  }
 ],
 "metadata": {},
 "nbformat": 4,
 "nbformat_minor": 5
}