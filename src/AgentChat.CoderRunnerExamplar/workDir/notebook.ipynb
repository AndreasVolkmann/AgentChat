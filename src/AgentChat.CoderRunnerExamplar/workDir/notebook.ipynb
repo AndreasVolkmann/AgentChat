{
 "cells": [
  {
   "cell_type": "code",
   "execution_count": null,
   "metadata": {
    "dotnet_interactive": {
     "language": "csharp"
    },
    "polyglot_notebook": {
     "kernelName": "csharp"
    }
   },
   "outputs": [],
   "source": [
    "#r \"nuget:Microsoft.ML\"\r\n",
    "#r \"nuget:Microsoft.ML.LightGbm\"\r\n"
   ]
  },
  {
   "cell_type": "code",
   "execution_count": null,
   "metadata": {
    "dotnet_interactive": {
     "language": "csharp"
    },
    "polyglot_notebook": {
     "kernelName": "csharp"
    }
   },
   "outputs": [],
   "source": [
    "public class DummyData\n",
    "{\n",
    "    public float Feature1 { get; set; }\n",
    "    public float Feature2 { get; set; }\n",
    "    public float Feature3 { get; set; }\n",
    "    public float Feature4 { get; set; }\n",
    "    public bool Label { get; set; }\n",
    "}"
   ]
  },
  {
   "cell_type": "code",
   "execution_count": null,
   "metadata": {
    "dotnet_interactive": {
     "language": "csharp"
    },
    "polyglot_notebook": {
     "kernelName": "csharp"
    }
   },
   "outputs": [],
   "source": [
    "var mlContext = new Microsoft.ML.MLContext();\n",
    "var dataPoints = GenerateRandomDataPoints(1000).ToList();\n",
    "var allData = mlContext.Data.LoadFromEnumerable(dataPoints);\n",
    "\n",
    "// Split the data into train and test set\n",
    "var trainTestSplit = mlContext.Data.TrainTestSplit(allData);\n",
    "var trainingData = trainTestSplit.TrainSet;\n",
    "var testData = trainTestSplit.TestSet;\n",
    "\n",
    "IEnumerable<DummyData> GenerateRandomDataPoints(int count, int seed = 0)\n",
    "{\n",
    "    var random = new Random(seed);\n",
    "    float randomFloat() => (float)random.NextDouble();\n",
    "    for (int i = 0; i < count; i++)\n",
    "    {\n",
    "        var label = randomFloat() > 0.5f;\n",
    "        yield return new DummyData\n",
    "        {\n",
    "            Label = label,\n",
    "            Feature1 = randomFloat(),\n",
    "            Feature2 = randomFloat(),\n",
    "            Feature3 = randomFloat(),\n",
    "            Feature4 = randomFloat()\n",
    "        };\n",
    "    }\n",
    "}\n",
    "\n",
    "Console.WriteLine($\"Number of training examples: {trainingData.GetRowCount()}\");\n",
    "Console.WriteLine($\"Number of test examples: {testData.GetRowCount()}\");"
   ]
  },
  {
   "cell_type": "code",
   "execution_count": null,
   "metadata": {
    "dotnet_interactive": {
     "language": "csharp"
    },
    "polyglot_notebook": {
     "kernelName": "csharp"
    }
   },
   "outputs": [],
   "source": [
    "using Microsoft.ML;\n",
    "using Microsoft.ML.Data;\n",
    "\n",
    "var pipeline = mlContext.Transforms.Concatenate(\"Features\", new[] { \"Feature1\", \"Feature2\", \"Feature3\", \"Feature4\" })\n",
    "                .Append(mlContext.BinaryClassification.Trainers.LightGbm());\n",
    "\n",
    "Console.WriteLine(\"Pipeline created successfully\");"
   ]
  },
  {
   "cell_type": "code",
   "execution_count": null,
   "metadata": {
    "dotnet_interactive": {
     "language": "csharp"
    },
    "polyglot_notebook": {
     "kernelName": "csharp"
    }
   },
   "outputs": [],
   "source": [
    "// Train the model using the pipeline and training data\n",
    "var model = pipeline.Fit(trainingData);\n",
    "\n",
    "// Make predictions with the trained model and test data\n",
    "var predictions = model.Transform(testData);\n",
    "\n",
    "// Evaluate the model's quality\n",
    "var metrics = mlContext.BinaryClassification.Evaluate(predictions);\n",
    "\n",
    "// Print out the result to console\n",
    "Console.WriteLine($\"Accuracy: {metrics.Accuracy}\");\n",
    "Console.WriteLine($\"Auc: {metrics.AreaUnderRocCurve}\");\n",
    "Console.WriteLine($\"F1Score: {metrics.F1Score}\");"
   ]
  },
  {
   "cell_type": "code",
   "execution_count": null,
   "metadata": {
    "dotnet_interactive": {
     "language": "csharp"
    },
    "polyglot_notebook": {
     "kernelName": "csharp"
    }
   },
   "outputs": [],
   "source": [
    "mlContext.Model.Save(model, trainingData.Schema, \"lgbm.mlnet\");\n",
    "\n",
    "Console.WriteLine(\"Model saved to lgbm.mlnet\");"
   ]
  }
 ],
 "metadata": {},
 "nbformat": 4,
 "nbformat_minor": 5
}