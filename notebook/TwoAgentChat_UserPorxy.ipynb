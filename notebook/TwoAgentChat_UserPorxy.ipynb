{
 "cells": [
  {
   "cell_type": "markdown",
   "metadata": {},
   "source": [
    "## TwoAgentChat with UserAgent\n",
    "\n",
    "This notebook shows how to use a UserAgent to chat with a GPTAgent"
   ]
  },
  {
   "cell_type": "markdown",
   "metadata": {},
   "source": [
    "### Install dependencies"
   ]
  },
  {
   "cell_type": "code",
   "execution_count": 3,
   "metadata": {
    "dotnet_interactive": {
     "language": "csharp"
    },
    "polyglot_notebook": {
     "kernelName": "csharp"
    },
    "vscode": {
     "languageId": "polyglot-notebook"
    }
   },
   "outputs": [
    {
     "data": {
      "text/html": [
       "<div><div><strong>Restore sources</strong><ul><li><span>https://www.myget.org/F/agentchat/api/v3/index.json</span></li></ul></div><div></div><div><strong>Installed Packages</strong><ul><li><span>AgentChat.Core, 0.2.0-6631217245</span></li><li><span>AgentChat.Example.Share, 0.2.0-6631217245</span></li><li><span>AgentChat.GPT, 0.2.0-6631217245</span></li></ul></div></div>"
      ]
     },
     "metadata": {},
     "output_type": "display_data"
    }
   ],
   "source": [
    "#i \"nuget:https://www.myget.org/F/agentchat/api/v3/index.json\"\n",
    "\n",
    "#r \"nuget:AgentChat.Core,*-*\"\n",
    "#r \"nuget:AgentChat.GPT,*-*\"\n",
    "#r \"nuget:AgentChat.Example.Share,*-*\""
   ]
  },
  {
   "cell_type": "markdown",
   "metadata": {},
   "source": [
    "### Define a UserAgent\n",
    "To define a UserAgent that takes input from user, we can implement `IAgent` interface and define 'CallAsync' method.\n",
    "\n",
    ">Note: This class is also available in `AgentChat.Example.Share` with the name `NotebookUserAgent`"
   ]
  },
  {
   "cell_type": "code",
   "execution_count": 18,
   "metadata": {
    "dotnet_interactive": {
     "language": "csharp"
    },
    "polyglot_notebook": {
     "kernelName": "csharp"
    },
    "vscode": {
     "languageId": "polyglot-notebook"
    }
   },
   "outputs": [],
   "source": [
    "using System.Threading;\n",
    "using Microsoft.DotNet.Interactive;\n",
    "using Azure.AI.OpenAI;\n",
    "\n",
    "public class UserAgent : IAgent\n",
    "{\n",
    "    public UserAgent(string name)\n",
    "    {\n",
    "        Name = name;\n",
    "    }\n",
    "\n",
    "    public string Name { get; }\n",
    "\n",
    "    public async Task<IChatMessage> CallAsync(IEnumerable<IChatMessage> messages, CancellationToken ct)\n",
    "    {\n",
    "        var input = await Kernel.GetInputAsync();\n",
    "\n",
    "        return new Message(ChatRole.Assistant, input, null, this.Name);\n",
    "    }\n",
    "}"
   ]
  },
  {
   "cell_type": "markdown",
   "metadata": {},
   "source": [
    "### Create agent\n",
    "We will create a GPTAgent and a UserAgent. UserAgent will take input from user and send it to GPTAgent. GPTAgent will generate a response and send it back to UserAgent. UserAgent will display the response to the user."
   ]
  },
  {
   "cell_type": "code",
   "execution_count": 19,
   "metadata": {
    "dotnet_interactive": {
     "language": "csharp"
    },
    "polyglot_notebook": {
     "kernelName": "csharp"
    },
    "vscode": {
     "languageId": "polyglot-notebook"
    }
   },
   "outputs": [],
   "source": [
    "using AgentChat;\n",
    "using AgentChat.Core;\n",
    "using AgentChat.Example.Share;\n",
    "var userAgent = new UserAgent(\"Human\");\n",
    "var gptAgent = Constant.GPT35.CreateAgent(\n",
    "    name:\"GPT\",\n",
    "    roleInformation: \"you are a helpful AI assistant\");"
   ]
  },
  {
   "cell_type": "markdown",
   "metadata": {},
   "source": [
    "### Start a new chat"
   ]
  },
  {
   "cell_type": "code",
   "execution_count": 21,
   "metadata": {
    "dotnet_interactive": {
     "language": "csharp"
    },
    "polyglot_notebook": {
     "kernelName": "csharp"
    },
    "vscode": {
     "languageId": "polyglot-notebook"
    }
   },
   "outputs": [
    {
     "name": "stdout",
     "output_type": "stream",
     "text": [
      "Message from GPT\n",
      "--------------------\n",
      "Hello! How can I assist you today?\n",
      "--------------------\n",
      "\n",
      "Message from Human\n",
      "--------------------\n",
      "Tell me a joke\n",
      "--------------------\n",
      "\n",
      "Message from GPT\n",
      "--------------------\n",
      "Sure, here's a joke for you:\n",
      "\n",
      "Why don't scientists trust atoms?\n",
      "\n",
      "Because they make up everything!\n",
      "--------------------\n",
      "\n"
     ]
    }
   ],
   "source": [
    "var conversation = await userAgent.SendMessageToAgentAsync(\n",
    "    receiver: gptAgent,\n",
    "    chatHistory: null, // start a new conversation\n",
    "    maxRound: 3); // exit after 3 rounds"
   ]
  }
 ],
 "metadata": {
  "language_info": {
   "name": "python"
  }
 },
 "nbformat": 4,
 "nbformat_minor": 2
}
