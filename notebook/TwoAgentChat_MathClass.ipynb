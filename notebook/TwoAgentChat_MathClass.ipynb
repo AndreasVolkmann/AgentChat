{
 "cells": [
  {
   "cell_type": "markdown",
   "metadata": {},
   "source": [
    "### Install packages"
   ]
  },
  {
   "cell_type": "code",
   "execution_count": 1,
   "metadata": {
    "dotnet_interactive": {
     "language": "csharp"
    },
    "polyglot_notebook": {
     "kernelName": "csharp"
    },
    "vscode": {
     "languageId": "polyglot-notebook"
    }
   },
   "outputs": [
    {
     "data": {
      "text/html": [
       "<div><div><strong>Restore sources</strong><ul><li><span>https://www.myget.org/F/agentchat/api/v3/index.json</span></li></ul></div><div></div><div><strong>Installed Packages</strong><ul><li><span>AgentChat.Core, 0.2.5</span></li><li><span>AgentChat.GPT, 0.2.5</span></li></ul></div></div>"
      ]
     },
     "metadata": {},
     "output_type": "display_data"
    }
   ],
   "source": [
    "#i \"nuget:https://www.myget.org/F/agentchat/api/v3/index.json\"\n",
    "\n",
    "#r \"nuget:AgentChat.Core,*-*\"\n",
    "#r \"nuget:AgentChat.GPT,*-*\""
   ]
  },
  {
   "cell_type": "markdown",
   "metadata": {},
   "source": [
    "### Configure api key for GPT access"
   ]
  },
  {
   "cell_type": "code",
   "execution_count": 2,
   "metadata": {
    "dotnet_interactive": {
     "language": "csharp"
    },
    "polyglot_notebook": {
     "kernelName": "csharp"
    },
    "vscode": {
     "languageId": "polyglot-notebook"
    }
   },
   "outputs": [],
   "source": [
    "using AgentChat;\n",
    "\n",
    "var azureAPIKey = Environment.GetEnvironmentVariable(\"AZURE_OPENAI_API_KEY\");\n",
    "var azureEndpoint = Environment.GetEnvironmentVariable(\"AZURE_OPENAI_ENDPOINT\");\n",
    "var azureGPT35 = Environment.GetEnvironmentVariable(\"AZURE_GPT_35_MODEL_ID\");\n",
    "var gpt35 = GPT.CreateFromAzureOpenAI(azureGPT35, azureAPIKey, azureEndpoint);"
   ]
  },
  {
   "cell_type": "markdown",
   "metadata": {},
   "source": [
    "### Create agents"
   ]
  },
  {
   "cell_type": "code",
   "execution_count": 3,
   "metadata": {
    "dotnet_interactive": {
     "language": "csharp"
    },
    "polyglot_notebook": {
     "kernelName": "csharp"
    },
    "vscode": {
     "languageId": "polyglot-notebook"
    }
   },
   "outputs": [],
   "source": [
    "var alice = gpt35.CreateAgent(\n",
    "    \"Alice\",\n",
    "    \"You are a pre-school math teacher.\",\n",
    "    temperature: 0,\n",
    "    maxToken: 100);\n",
    "\n",
    "var bob = gpt35.CreateAgent(\n",
    "    \"Bob\",\n",
    "    \"You are a student\",\n",
    "    temperature: 0,\n",
    "    maxToken: 100);"
   ]
  },
  {
   "cell_type": "markdown",
   "metadata": {},
   "source": [
    "### Start the conversation\n",
    "\n",
    "The below example shows how to use the TwoAgentChat to start a math class between two agents. The conversation is started by Alice, the math teacher, and Bob, the student, is the only other participant. The conversation is ended when Alice says \"Goodbye\" and Bob responds with \"Bye\"."
   ]
  },
  {
   "cell_type": "code",
   "execution_count": 7,
   "metadata": {
    "dotnet_interactive": {
     "language": "csharp"
    },
    "polyglot_notebook": {
     "kernelName": "csharp"
    },
    "vscode": {
     "languageId": "polyglot-notebook"
    }
   },
   "outputs": [
    {
     "name": "stdout",
     "output_type": "stream",
     "text": [
      "Message from Bob\n",
      "--------------------\n",
      "Sure, I'm ready to answer your math questions. Please go ahead and ask the first question.\n",
      "--------------------\n",
      "\n",
      "Message from Alice\n",
      "--------------------\n",
      "Great! Here's the first question:\n",
      "\n",
      "What is 2 + 3?\n",
      "\n",
      "Please provide your answer.\n",
      "--------------------\n",
      "\n",
      "Message from Bob\n",
      "--------------------\n",
      "The answer to 2 + 3 is 5.\n",
      "\n",
      "--------------------\n",
      "\n",
      "Message from Alice\n",
      "--------------------\n",
      "That's correct! Well done!\n",
      "\n",
      "Now, here's the second question:\n",
      "\n",
      "What is 4 - 2?\n",
      "\n",
      "Please provide your answer.\n",
      "\n",
      "--------------------\n",
      "\n",
      "Message from Bob\n",
      "--------------------\n",
      "The answer to 4 - 2 is 2.\n",
      "\n",
      "\n",
      "--------------------\n",
      "\n",
      "Message from Alice\n",
      "--------------------\n",
      "Great job! You're doing well!\n",
      "\n",
      "Now, here's the third and final question:\n",
      "\n",
      "What is 3 x 2?\n",
      "\n",
      "Please provide your answer.\n",
      "\n",
      "\n",
      "--------------------\n",
      "\n",
      "Message from Bob\n",
      "--------------------\n",
      "The answer to 3 x 2 is 6.\n",
      "\n",
      "\n",
      "--------------------\n",
      "\n",
      "Message from Alice\n",
      "--------------------\n",
      "Fantastic! You got it right again!\n",
      "\n",
      "Congratulations on answering all the math questions correctly! You did a great job!\n",
      "\n",
      "Keep up the good work and continue practicing your math skills. If you have any more questions or need help with anything else, feel free to ask.\n",
      "\n",
      "Have a wonderful day!\n",
      "\n",
      "[GROUPCHAT_TERMINATE]\n",
      "--------------------\n",
      "\n"
     ]
    }
   ],
   "source": [
    "using System.Linq;\n",
    "\n",
    "var conversation = Enumerable.Empty<IChatMessage>();\n",
    "conversation = await alice.SendMessageToAgentAsync(bob, @\"I'm going to give you 3 math question,\n",
    "one question at a time.\n",
    "You are going to answer it.\n",
    "If your answer is correct,\n",
    "I'll give you the next question.\n",
    "If all questions being resolved, I'll terminate the chat by saying [GROUPCHAT_TERMINATE]\", maxRound: 1);\n",
    "conversation = await bob.SendMessageToAgentAsync(alice, conversation, maxRound: 14);"
   ]
  },
  {
   "cell_type": "markdown",
   "metadata": {},
   "source": [
    "### Retrieve the conversation history"
   ]
  },
  {
   "cell_type": "code",
   "execution_count": 8,
   "metadata": {
    "dotnet_interactive": {
     "language": "csharp"
    },
    "polyglot_notebook": {
     "kernelName": "csharp"
    },
    "vscode": {
     "languageId": "polyglot-notebook"
    }
   },
   "outputs": [
    {
     "data": {
      "text/html": [
       "<div class=\"dni-plaintext\"><pre>9</pre></div><style>\r\n",
       ".dni-code-hint {\r\n",
       "    font-style: italic;\r\n",
       "    overflow: hidden;\r\n",
       "    white-space: nowrap;\r\n",
       "}\r\n",
       ".dni-treeview {\r\n",
       "    white-space: nowrap;\r\n",
       "}\r\n",
       ".dni-treeview td {\r\n",
       "    vertical-align: top;\r\n",
       "    text-align: start;\r\n",
       "}\r\n",
       "details.dni-treeview {\r\n",
       "    padding-left: 1em;\r\n",
       "}\r\n",
       "table td {\r\n",
       "    text-align: start;\r\n",
       "}\r\n",
       "table tr { \r\n",
       "    vertical-align: top; \r\n",
       "    margin: 0em 0px;\r\n",
       "}\r\n",
       "table tr td pre \r\n",
       "{ \r\n",
       "    vertical-align: top !important; \r\n",
       "    margin: 0em 0px !important;\r\n",
       "} \r\n",
       "table th {\r\n",
       "    text-align: start;\r\n",
       "}\r\n",
       "</style>"
      ]
     },
     "metadata": {},
     "output_type": "display_data"
    }
   ],
   "source": [
    "conversation.Count()"
   ]
  }
 ],
 "metadata": {
  "kernelspec": {
   "display_name": ".NET (C#)",
   "language": "C#",
   "name": ".net-csharp"
  },
  "language_info": {
   "name": "python"
  },
  "polyglot_notebook": {
   "kernelInfo": {
    "defaultKernelName": "csharp",
    "items": [
     {
      "aliases": [],
      "name": "csharp"
     }
    ]
   }
  }
 },
 "nbformat": 4,
 "nbformat_minor": 2
}
