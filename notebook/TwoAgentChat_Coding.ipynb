{
 "cells": [
  {
   "cell_type": "markdown",
   "metadata": {},
   "source": [
    "### TwoAgenChat with coding\n",
    "\n",
    "This notebook shows how to use a `coder` agent and a `runner` agent to implement a back-and-force coding-debuging conversation."
   ]
  },
  {
   "cell_type": "markdown",
   "metadata": {},
   "source": [
    "### Step 1: Install dependencies"
   ]
  },
  {
   "cell_type": "code",
   "execution_count": 1,
   "metadata": {
    "dotnet_interactive": {
     "language": "csharp"
    },
    "polyglot_notebook": {
     "kernelName": "csharp"
    },
    "vscode": {
     "languageId": "polyglot-notebook"
    }
   },
   "outputs": [
    {
     "data": {
      "text/html": [
       "<div><div><strong>Restore sources</strong><ul><li><span>https://www.myget.org/F/agentchat/api/v3/index.json</span></li></ul></div><div></div><div><strong>Installed Packages</strong><ul><li><span>AgentChat.Core, 0.3.1</span></li><li><span>AgentChat.DotnetInteractiveFunction, 0.3.1</span></li><li><span>AgentChat.Example.Share, 0.3.1</span></li><li><span>AgentChat.OpenAI, 0.3.1</span></li></ul></div></div>"
      ]
     },
     "metadata": {},
     "output_type": "display_data"
    }
   ],
   "source": [
    "#i \"nuget:https://www.myget.org/F/agentchat/api/v3/index.json\"\n",
    "\n",
    "#r \"nuget:AgentChat.Core,*-*\"\n",
    "#r \"nuget:AgentChat.OpenAI,*-*\"\n",
    "#r \"nuget:AgentChat.Example.Share,*-*\"\n",
    "// this package provides FunctionDefinition for `dotnet-interactive` command\n",
    "#r \"nuget:AgentChat.DotnetInteractiveFunction,*-*\""
   ]
  },
  {
   "cell_type": "markdown",
   "metadata": {},
   "source": [
    "### Step 2: Create a Coding Agent\n",
    "Then we are going to create a `GPTAgent` that will be used to write dotnet script code to resolve the user's problem."
   ]
  },
  {
   "cell_type": "code",
   "execution_count": 2,
   "metadata": {
    "dotnet_interactive": {
     "language": "csharp"
    },
    "polyglot_notebook": {
     "kernelName": "csharp"
    },
    "vscode": {
     "languageId": "polyglot-notebook"
    }
   },
   "outputs": [],
   "source": [
    "using AgentChat.Example.Share;\n",
    "using AgentChat;\n",
    "using System.Text.Json;\n",
    "using Azure.AI.OpenAI;\n",
    "\n",
    "var completeFunction = new FunctionDefinition{\n",
    "    Name = \"TaskComplete\",\n",
    "    Description = \"task complete\",\n",
    "    Parameters = BinaryData.FromObjectAsJson(new\n",
    "    {\n",
    "        Type = \"object\",\n",
    "        Properties = new\n",
    "\t\t{\n",
    "\t\t    msg = new\n",
    "\t\t    {\n",
    "\t\t\t    Type = @\"string\",\n",
    "\t\t\t    Description = @\"msg\",\n",
    "\t\t    },\n",
    "        },\n",
    "        Required = new []\n",
    "\t\t{\n",
    "\t\t    \"msg\",\n",
    "\t\t},\n",
    "    },\n",
    "    new JsonSerializerOptions\n",
    "\t{\n",
    "\t\tPropertyNamingPolicy = JsonNamingPolicy.CamelCase,\n",
    "\t}),\n",
    "};\n",
    "\n",
    "var coder = Constant.GPT35.CreateAgent(\n",
    "    name: \"Coder\",\n",
    "    roleInformation: @\"You act as dotnet coder, you write dotnet script to resolve task.\n",
    "-workflow-\n",
    "write code\n",
    "\n",
    "if code_has_error\n",
    "    fix_code_error\n",
    "\n",
    "if task_complete, call TaskComplete\n",
    "\n",
    "-end-\n",
    "\n",
    "Here're some rules to follow on write_code_to_resolve_current_step:\n",
    "- put code between ```csharp and ```\n",
    "- Use top-level statements, remove main function, just write code, like what python does.\n",
    "- Remove all `using` statement. Runner can't handle it.\n",
    "- Try to use `var` instead of explicit type.\n",
    "- Try avoid using external library.\n",
    "- Don't use external data source, like file, database, etc. Create a dummy dataset if you need.\n",
    "- Always print out the result to console. Don't write code that doesn't print out anything.\n",
    "\n",
    "Here are some examples for write code:\n",
    "```nuget\n",
    "xxx\n",
    "```\n",
    "```csharp\n",
    "xxx\n",
    "```\n",
    "\n",
    "Here are some examples for fix_code_error:\n",
    "The error is caused by xxx. Here's the fix code\n",
    "```csharp\n",
    "xxx\n",
    "```\",\n",
    "    temperature: 0,\n",
    "    functionMap: new Dictionary<FunctionDefinition, Func<string, Task<string>>> {\n",
    "        { completeFunction, async (args) => \"[COMPLETE]\"}\n",
    "    });"
   ]
  },
  {
   "cell_type": "markdown",
   "metadata": {},
   "source": [
    "### Step 3: Create a runner agent to run code and get output\n",
    "In this step, we are going to create another `GPTAgent` that will be used to run the code and get the output.\n",
    "The runner agent will use `function_call` to call `RunDotnetCodeFunction` and `InstallNugetDependencyFunction` to run the code and get the output."
   ]
  },
  {
   "cell_type": "code",
   "execution_count": 3,
   "metadata": {
    "dotnet_interactive": {
     "language": "csharp"
    },
    "polyglot_notebook": {
     "kernelName": "csharp"
    },
    "vscode": {
     "languageId": "polyglot-notebook"
    }
   },
   "outputs": [],
   "source": [
    "using System.IO;\n",
    "using AgentChat.DotnetInteractiveService;\n",
    "using System.Text.Json;\n",
    "\n",
    "var workDir = Path.Combine(Path.GetTempPath(), \"InteractiveService\");\n",
    "if (!Directory.Exists(workDir))\n",
    "    Directory.CreateDirectory(workDir);\n",
    "\n",
    "var functionDefinition = new FunctionDefinition{\n",
    "    Name = \"Greeting\",\n",
    "    Description = \"Greeting\",\n",
    "    Parameters = BinaryData.FromObjectAsJson(new\n",
    "    {\n",
    "        Type = \"object\",\n",
    "        Properties = new\n",
    "\t\t{\n",
    "\t\t    greeting = new\n",
    "\t\t    {\n",
    "\t\t\t    Type = @\"string\",\n",
    "\t\t\t    Description = @\"greeting\",\n",
    "\t\t    },\n",
    "        },\n",
    "        Required = new []\n",
    "\t\t{\n",
    "\t\t    \"greeting\",\n",
    "\t\t},\n",
    "    },\n",
    "    new JsonSerializerOptions\n",
    "\t{\n",
    "\t\tPropertyNamingPolicy = JsonNamingPolicy.CamelCase,\n",
    "\t}),\n",
    "};\n",
    "\n",
    "var service = new InteractiveService(workDir);\n",
    "var dotnetInteractiveFunctions = new DotnetInteractiveFunction(service);\n",
    "\n",
    "// this function is used to fix invalid json returned by GPT-3\n",
    "var fixInvalidJsonFunction = new FixInvalidJsonFunctionWrapper(Constant.GPT35);\n",
    "\n",
    "var runner = Constant.GPT35.CreateAgent(\n",
    "    name: \"Runner\",\n",
    "    roleInformation: @\"you act as dotnet runner, you run dotnet script and install nuget packages. Here's the workflow you follow:\n",
    "-workflow-\n",
    "if code_is_available\n",
    "    call run_code\n",
    "\n",
    "if nuget_packages_is_available\n",
    "    call install_nuget_packages\n",
    "\n",
    "for any other case\n",
    "    call greeting\n",
    "-end-\",\n",
    "    temperature: 0,\n",
    "    functionMap: new Dictionary<FunctionDefinition, Func<string, Task<string>>> {\n",
    "        { dotnetInteractiveFunctions.RunCodeFunction, fixInvalidJsonFunction.FixInvalidJsonWrapper(dotnetInteractiveFunctions.RunCodeWrapper) },\n",
    "        { dotnetInteractiveFunctions.InstallNugetPackagesFunction, dotnetInteractiveFunctions.InstallNugetPackagesWrapper },\n",
    "        { functionDefinition, async (args) => \"NO_CODE_AVAILABLE\"}\n",
    "    });\n",
    "\n",
    "// start kenel\n",
    "await service.StartAsync(workDir, default);"
   ]
  },
  {
   "cell_type": "markdown",
   "metadata": {},
   "source": [
    "### Play with runner agent\n",
    "Now we can play with the runner agent to see how it works."
   ]
  },
  {
   "cell_type": "code",
   "execution_count": 4,
   "metadata": {
    "dotnet_interactive": {
     "language": "csharp"
    },
    "polyglot_notebook": {
     "kernelName": "csharp"
    },
    "vscode": {
     "languageId": "polyglot-notebook"
    }
   },
   "outputs": [
    {
     "name": "stdout",
     "output_type": "stream",
     "text": [
      "Message from Runner\n",
      "--------------------\n",
      "NO_CODE_AVAILABLE\n",
      "--------------------\n",
      "\n",
      "Message from Runner\n",
      "--------------------\n",
      "3\n",
      "\n",
      "--------------------\n",
      "\n",
      "Message from Runner\n",
      "--------------------\n",
      "Installed nuget packages:\n",
      "- Microsoft.ML\n",
      "\n",
      "--------------------\n",
      "\n"
     ]
    }
   ],
   "source": [
    "// runner should respond with NO_CODE_AVAILABLE\n",
    "var msg = await runner.SendMessageAsync(\"hello\");\n",
    "msg.PrettyPrintMessage();\n",
    "\n",
    "// runner should run code\n",
    "msg = await runner.SendMessageAsync(\"```csharp\\nConsole.WriteLine(1+1+1);\\n```\");\n",
    "msg.PrettyPrintMessage();\n",
    "\n",
    "// runner should install nuget packages\n",
    "msg = await runner.SendMessageAsync(\"```nuget\\nMicrosoft.ML\\n```\");\n",
    "msg.PrettyPrintMessage();"
   ]
  },
  {
   "cell_type": "markdown",
   "metadata": {},
   "source": [
    "### Step 4: Create two agents chat\n",
    "\n",
    "In this step, we are going to create a `TwoAgentChat` to let the `user` agent and the `coder` agent chat with each other.\n",
    "\n",
    "The Coding agent will take the user's input and write dotnet script code to resolve the user's problem.\n",
    "\n",
    "And once the code is ready, the Coding agent will send the code to the User agent.\n",
    "\n",
    "Then the User agent will send the code to the Runner agent to run the code and get the output, then send the output back to the Coder agent.\n",
    "\n",
    "If the output is correct, the Coder agent will return a 'COMPLETE' message back to User agent and wait for next input. Otherwise, the Coder agent will try to fix the code and send the code back to the User agent to run again.\n"
   ]
  },
  {
   "cell_type": "code",
   "execution_count": 6,
   "metadata": {
    "dotnet_interactive": {
     "language": "csharp"
    },
    "polyglot_notebook": {
     "kernelName": "csharp"
    },
    "vscode": {
     "languageId": "polyglot-notebook"
    }
   },
   "outputs": [
    {
     "name": "stdout",
     "output_type": "stream",
     "text": [
      "Message from Coder\n",
      "--------------------\n",
      "```csharp\n",
      "using System;\n",
      "\n",
      "namespace Fibonacci\n",
      "{\n",
      "    class Program\n",
      "    {\n",
      "        static void Main(string[] args)\n",
      "        {\n",
      "            int n = 10;\n",
      "            int result = Fibonacci(n);\n",
      "            Console.WriteLine($\"The 10th Fibonacci number is: {result}\");\n",
      "        }\n",
      "\n",
      "        static int Fibonacci(int n)\n",
      "        {\n",
      "            if (n <= 1)\n",
      "                return n;\n",
      "\n",
      "            int[] fib = new int[n + 1];\n",
      "            fib[0] = 0;\n",
      "            fib[1] = 1;\n",
      "\n",
      "            for (int i = 2; i <= n; i++)\n",
      "            {\n",
      "                fib[i] = fib[i - 1] + fib[i - 2];\n",
      "            }\n",
      "\n",
      "            return fib[n];\n",
      "        }\n",
      "    }\n",
      "}\n",
      "```\n",
      "\n",
      "The 10th Fibonacci number is: 55\n",
      "--------------------\n",
      "\n",
      "Message from Runner\n",
      "--------------------\n",
      "Error: (3,1): error CS7021: Cannot declare namespace in script code\n",
      "--------------------\n",
      "\n",
      "Message from Coder\n",
      "--------------------\n",
      "The error is caused by declaring a namespace in the script code. In dotnet script, we don't need to declare a namespace. Here's the fixed code:\n",
      "\n",
      "```csharp\n",
      "int n = 10;\n",
      "int result = Fibonacci(n);\n",
      "Console.WriteLine($\"The 10th Fibonacci number is: {result}\");\n",
      "\n",
      "int Fibonacci(int n)\n",
      "{\n",
      "    if (n <= 1)\n",
      "        return n;\n",
      "\n",
      "    int[] fib = new int[n + 1];\n",
      "    fib[0] = 0;\n",
      "    fib[1] = 1;\n",
      "\n",
      "    for (int i = 2; i <= n; i++)\n",
      "    {\n",
      "        fib[i] = fib[i - 1] + fib[i - 2];\n",
      "    }\n",
      "\n",
      "    return fib[n];\n",
      "}\n",
      "```\n",
      "\n",
      "The 10th Fibonacci number is: 55\n",
      "\n",
      "--------------------\n",
      "\n",
      "Message from Runner\n",
      "--------------------\n",
      "The 10th Fibonacci number is: 55\n",
      "\n",
      "--------------------\n",
      "\n",
      "Message from Coder\n",
      "--------------------\n",
      "[COMPLETE]\n",
      "--------------------\n",
      "\n",
      "Message from User\n",
      "--------------------\n",
      "[GROUPCHAT_TERMINATE]\n",
      "--------------------\n",
      "\n"
     ]
    }
   ],
   "source": [
    "// use runner agent to auto-reply message from coder\n",
    "var user = runner.CreateAutoReplyAgent(\"User\", async (msgs, ct) => {\n",
    "    // if last message contains \"COMPLETE\", stop sending messages to runner agent and fall back to user agent\n",
    "    if (msgs.Last().Content.Contains(\"[COMPLETE]\"))\n",
    "        return new Message(Role.Assistant, IChatMessageExtension.TERMINATE, from: \"User\"); // return TERMINATE to stop conversation\n",
    "    \n",
    "    // otherwise, send message to runner agent to either run code or install nuget packages and get the reply\n",
    "    return await runner.SendMessageAsync(msgs.Last());\n",
    "});\n",
    "\n",
    "await user.SendMessageToAgentAsync(\n",
    "    coder,\n",
    "    \"what's the 10th of fibonacci? Print the question and result in the end.\",\n",
    "    maxRound: 10);"
   ]
  }
 ],
 "metadata": {
  "kernelspec": {
   "display_name": ".NET (C#)",
   "language": "C#",
   "name": ".net-csharp"
  },
  "language_info": {
   "name": "python"
  },
  "polyglot_notebook": {
   "kernelInfo": {
    "defaultKernelName": "csharp",
    "items": [
     {
      "aliases": [],
      "name": "csharp"
     }
    ]
   }
  }
 },
 "nbformat": 4,
 "nbformat_minor": 2
}
