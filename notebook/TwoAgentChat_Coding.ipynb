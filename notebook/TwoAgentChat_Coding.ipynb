{
 "cells": [
  {
   "cell_type": "markdown",
   "metadata": {},
   "source": [
    "### TwoAgenChat with coding\n",
    "\n",
    "This notebook shows how to use a `NotebookUserAgent` and a `GPTAgent` to implement a back-and-force coding-debuging conversation."
   ]
  },
  {
   "cell_type": "markdown",
   "metadata": {},
   "source": [
    "### Install dependencies"
   ]
  },
  {
   "cell_type": "code",
   "execution_count": 9,
   "metadata": {
    "dotnet_interactive": {
     "language": "csharp"
    },
    "polyglot_notebook": {
     "kernelName": "csharp"
    },
    "vscode": {
     "languageId": "polyglot-notebook"
    }
   },
   "outputs": [
    {
     "data": {
      "text/html": [
       "<div><div></div><div></div><div><strong>Installed Packages</strong><ul><li><span>AgentChat.Core, 0.2.1-1</span></li><li><span>AgentChat.DotnetInteractiveFunction, 0.2.1-1</span></li><li><span>AgentChat.Example.Share, 0.2.1-1</span></li><li><span>AgentChat.GPT, 0.2.1-1</span></li></ul></div></div>"
      ]
     },
     "metadata": {},
     "output_type": "display_data"
    }
   ],
   "source": [
    "// #i \"nuget:https://www.myget.org/F/agentchat/api/v3/index.json\"\n",
    "\n",
    "#r \"nuget:AgentChat.Core,*-*\"\n",
    "#r \"nuget:AgentChat.GPT,*-*\"\n",
    "#r \"nuget:AgentChat.Example.Share,*-*\"\n",
    "// this package provides FunctionDefinition for `dotnet-interactive` command\n",
    "#r \"nuget:AgentChat.DotnetInteractiveFunction,*-*\""
   ]
  },
  {
   "cell_type": "markdown",
   "metadata": {},
   "source": [
    "### Step 1: Create a NotebookUserAgent\n",
    "The first step we are going to do is to define a `NotebookUserAgent` that will be used to take input from user and send it to the coding agent."
   ]
  },
  {
   "cell_type": "code",
   "execution_count": 10,
   "metadata": {
    "dotnet_interactive": {
     "language": "csharp"
    },
    "polyglot_notebook": {
     "kernelName": "csharp"
    },
    "vscode": {
     "languageId": "polyglot-notebook"
    }
   },
   "outputs": [],
   "source": [
    "using AgentChat.Example.Share;\n",
    "using AgentChat;\n",
    "\n",
    "IAgent user = new NotebookUserAgent(\"User\");"
   ]
  },
  {
   "cell_type": "markdown",
   "metadata": {},
   "source": [
    "### Step 2: Create a Coding Agent\n",
    "Then we are going to create a `GPTAgent` that will be used to write dotnet script code to resolve the user's problem."
   ]
  },
  {
   "cell_type": "code",
   "execution_count": 11,
   "metadata": {
    "dotnet_interactive": {
     "language": "csharp"
    },
    "polyglot_notebook": {
     "kernelName": "csharp"
    },
    "vscode": {
     "languageId": "polyglot-notebook"
    }
   },
   "outputs": [],
   "source": [
    "var coder = Constant.GPT35.CreateAgent(\n",
    "    name: \"Coder\",\n",
    "    roleInformation: @\"You act as dotnet coder, you write dotnet script to resolve task.\n",
    "-workflow-\n",
    "write_code_to_resolve_coding_task\n",
    "\n",
    "if code_has_error\n",
    "    fix_code_error\n",
    "\n",
    "if task_complete, say [COMPLETE]\n",
    "\n",
    "-end-\n",
    "\n",
    "Here're some rules to follow on write_code_to_resolve_current_step:\n",
    "- put code between ```csharp and ```\n",
    "- Use top-level statements, remove main function, just write code, like what python does.\n",
    "- Remove all `using` statement. Runner can't handle it.\n",
    "- Try to use `var` instead of explicit type.\n",
    "- Try avoid using external library.\n",
    "- Don't use external data source, like file, database, etc. Create a dummy dataset if you need.\n",
    "- Always print out the result to console. Don't write code that doesn't print out anything.\n",
    "\n",
    "Here are some examples for write_code_to_resolve_coding_task:\n",
    "```nuget\n",
    "xxx\n",
    "```\n",
    "```csharp\n",
    "xxx\n",
    "```\n",
    "\n",
    "Here are some examples for fix_code_error:\n",
    "The error is caused by xxx. Here's the fix code\n",
    "```csharp\n",
    "xxx\n",
    "```\",\n",
    "    temperature: 0);"
   ]
  },
  {
   "cell_type": "markdown",
   "metadata": {},
   "source": [
    "### Step 3: Create a runner agent to run code and get output\n",
    "In this step, we are going to create another `GPTAgent` that will be used to run the code and get the output.\n",
    "The runner agent will use `function_call` to call `RunDotnetCodeFunction` and `InstallNugetDependencyFunction` to run the code and get the output."
   ]
  },
  {
   "cell_type": "code",
   "execution_count": 12,
   "metadata": {
    "dotnet_interactive": {
     "language": "csharp"
    },
    "polyglot_notebook": {
     "kernelName": "csharp"
    },
    "vscode": {
     "languageId": "polyglot-notebook"
    }
   },
   "outputs": [],
   "source": [
    "using System.IO;\n",
    "using AgentChat.DotnetInteractiveService;\n",
    "using Azure.AI.OpenAI;\n",
    "\n",
    "var workDir = Path.Combine(Path.GetTempPath(), \"InteractiveService\");\n",
    "if (!Directory.Exists(workDir))\n",
    "    Directory.CreateDirectory(workDir);\n",
    "\n",
    "var service = new InteractiveService(workDir);\n",
    "var dotnetInteractiveFunctions = new DotnetInteractiveFunction(service);\n",
    "\n",
    "// this function is used to fix invalid json returned by GPT-3\n",
    "var fixInvalidJsonFunction = new FixInvalidJsonFunctionWrapper(Constant.GPT35);\n",
    "\n",
    "var runner = Constant.GPT35.CreateAgent(\n",
    "    name: \"Runner\",\n",
    "    roleInformation: @\"you act as dotnet runner, you run dotnet script and install nuget packages. Here's the workflow you follow:\n",
    "-workflow-\n",
    "if code_is_available\n",
    "    call run_code\n",
    "\n",
    "if nuget_packages_is_available\n",
    "    call install_nuget_packages\n",
    "\n",
    "for any other case\n",
    "    say [NO_CODE_AVAILABLE]\n",
    "-end-\",\n",
    "    temperature: 0,\n",
    "    functionMap: new Dictionary<FunctionDefinition, Func<string, Task<string>>> {\n",
    "        { dotnetInteractiveFunctions.RunCodeFunction, fixInvalidJsonFunction.FixInvalidJsonWrapper(dotnetInteractiveFunctions.RunCodeWrapper) },\n",
    "        { dotnetInteractiveFunctions.InstallNugetPackagesFunction, dotnetInteractiveFunctions.InstallNugetPackagesWrapper },\n",
    "    });\n",
    "\n",
    "// start kenel\n",
    "await service.StartAsync(workDir, default);"
   ]
  },
  {
   "cell_type": "markdown",
   "metadata": {},
   "source": [
    "### Play with runner agent\n",
    "Now we can play with the runner agent to see how it works."
   ]
  },
  {
   "cell_type": "code",
   "execution_count": 13,
   "metadata": {
    "dotnet_interactive": {
     "language": "csharp"
    },
    "polyglot_notebook": {
     "kernelName": "csharp"
    },
    "vscode": {
     "languageId": "polyglot-notebook"
    }
   },
   "outputs": [
    {
     "name": "stdout",
     "output_type": "stream",
     "text": [
      "Message from Runner\n",
      "--------------------\n",
      "NO_CODE_AVAILABLE\n",
      "\n",
      "--------------------\n",
      "\n",
      "function name: RunCode\n",
      "raw function call: {\n",
      "  \"code\": \"Console.WriteLine(\\\"Hello World!!!\\\")\"\n",
      "}\n",
      "Message from Runner\n",
      "--------------------\n",
      "Hello World!!!\n",
      "\n",
      "--------------------\n",
      "\n",
      "function name: InstallNugetPackages\n",
      "raw function call: {\n",
      "  \"nugetPackages\": [\"Microsoft.ML\"]\n",
      "}\n",
      "Message from Runner\n",
      "--------------------\n",
      "Installed nuget packages:\n",
      "- Microsoft.ML\n",
      "\n",
      "--------------------\n",
      "\n"
     ]
    }
   ],
   "source": [
    "// runner should respond with NO_CODE_AVAILABLE\n",
    "var greeting = new Message(ChatRole.User, \"Hello\", from: user.Name);\n",
    "await user.SendMessageToAgentAsync(\n",
    "    runner,\n",
    "    new [] {greeting},\n",
    "    maxRound: 1);\n",
    "\n",
    "// runner should run code\n",
    "var someCodeMessage = new Message(ChatRole.User, @\"Console.WriteLine(\"\"Hello World!!!\"\")\", from: user.Name);\n",
    "await user.SendMessageToAgentAsync(\n",
    "    runner,\n",
    "    new [] {someCodeMessage},\n",
    "    maxRound: 1);\n",
    "\n",
    "// runner should install nuget packages\n",
    "var installNugetPackagesMessage = new Message(ChatRole.User, @\"nuget install Microsoft.ML\", from: user.Name);\n",
    "\n",
    "await user.SendMessageToAgentAsync(\n",
    "    runner,\n",
    "    new [] {installNugetPackagesMessage},\n",
    "    maxRound: 1);"
   ]
  },
  {
   "cell_type": "markdown",
   "metadata": {},
   "source": [
    "### Step 4: Create two agents chat\n",
    "\n",
    "In this step, we are going to create a `TwoAgentChat` to let the `user` agent and the `coder` agent chat with each other.\n",
    "\n",
    "The Coding agent will take the user's input and write dotnet script code to resolve the user's problem.\n",
    "\n",
    "And once the code is ready, the Coding agent will send the code to the User agent.\n",
    "\n",
    "Then the User agent will send the code to the Runner agent to run the code and get the output, then send the output back to the Coder agent.\n",
    "\n",
    "If the output is correct, the Coder agent will return a 'COMPLETE' message back to User agent and wait for next input. Otherwise, the Coder agent will try to fix the code and send the code back to the User agent to run again.\n"
   ]
  },
  {
   "cell_type": "code",
   "execution_count": 15,
   "metadata": {
    "dotnet_interactive": {
     "language": "csharp"
    },
    "polyglot_notebook": {
     "kernelName": "csharp"
    },
    "vscode": {
     "languageId": "polyglot-notebook"
    }
   },
   "outputs": [
    {
     "name": "stdout",
     "output_type": "stream",
     "text": [
      "Message from Coder\n",
      "--------------------\n",
      "```csharp\n",
      "int n = 10;\n",
      "int fib1 = 0;\n",
      "int fib2 = 1;\n",
      "int fibN = 0;\n",
      "\n",
      "for (int i = 2; i <= n; i++)\n",
      "{\n",
      "    fibN = fib1 + fib2;\n",
      "    fib1 = fib2;\n",
      "    fib2 = fibN;\n",
      "}\n",
      "\n",
      "Console.WriteLine($\"The 10th Fibonacci number is: {fibN}\");\n",
      "```\n",
      "--------------------\n",
      "\n",
      "function name: RunCode\n",
      "raw function call: {\n",
      "  \"code\": \"int n = 10;\\nint fib1 = 0;\\nint fib2 = 1;\\nint fibN = 0;\\n\\nfor (int i = 2; i <= n; i++)\\n{\\n    fibN = fib1 + fib2;\\n    fib1 = fib2;\\n    fib2 = fibN;\\n}\\n\\nConsole.WriteLine($\\\"The 10th Fibonacci number is: {fibN}\\\");\"\n",
      "}\n",
      "Runner: The 10th Fibonacci number is: 55\n",
      "\n",
      "Message from User\n",
      "--------------------\n",
      "The 10th Fibonacci number is: 55\n",
      "\n",
      "--------------------\n",
      "\n",
      "Message from Coder\n",
      "--------------------\n",
      "COMPLETE\n",
      "--------------------\n",
      "\n",
      "Message from User\n",
      "--------------------\n",
      "what's the 20th Fibonacci?\n",
      "--------------------\n",
      "\n",
      "Message from Coder\n",
      "--------------------\n",
      "```csharp\n",
      "int n = 20;\n",
      "int fib1 = 0;\n",
      "int fib2 = 1;\n",
      "int fibN = 0;\n",
      "\n",
      "for (int i = 2; i <= n; i++)\n",
      "{\n",
      "    fibN = fib1 + fib2;\n",
      "    fib1 = fib2;\n",
      "    fib2 = fibN;\n",
      "}\n",
      "\n",
      "Console.WriteLine($\"The 20th Fibonacci number is: {fibN}\");\n",
      "```\n",
      "\n",
      "--------------------\n",
      "\n",
      "function name: RunCode\n",
      "raw function call: {\n",
      "  \"code\": \"int n = 20;\\r\\nint fib1 = 0;\\r\\nint fib2 = 1;\\r\\nint fibN = 0;\\r\\n\\r\\nfor (int i = 2; i <= n; i++)\\r\\n{\\r\\n    fibN = fib1 + fib2;\\r\\n    fib1 = fib2;\\r\\n    fib2 = fibN;\\r\\n}\\r\\n\\r\\nConsole.WriteLine($\\\"The 20th Fibonacci number is: {fibN}\\\");\"\n",
      "}\n",
      "Runner: The 20th Fibonacci number is: 6765\n",
      "\n",
      "Message from User\n",
      "--------------------\n",
      "The 20th Fibonacci number is: 6765\n",
      "\n",
      "--------------------\n",
      "\n",
      "Message from Coder\n",
      "--------------------\n",
      "COMPLETE\n",
      "\n",
      "--------------------\n",
      "\n"
     ]
    },
    {
     "ename": "Error",
     "evalue": "Input request cancelled",
     "output_type": "error",
     "traceback": [
      "Input request cancelled"
     ]
    },
    {
     "ename": "Error",
     "evalue": "Input request cancelled",
     "output_type": "error",
     "traceback": [
      "Input request cancelled"
     ]
    },
    {
     "ename": "Error",
     "evalue": "System.Exception: Input request cancelled\r\n   at Microsoft.DotNet.Interactive.Kernel.GetInputAsync(String prompt, Boolean isPassword, String typeHint, String valueName) in D:\\a\\_work\\1\\s\\src\\Microsoft.DotNet.Interactive\\Kernel.Static.cs:line 72\r\n   at Microsoft.DotNet.Interactive.Kernel.GetInputAsync(String prompt, String typeHint, String valueName) in D:\\a\\_work\\1\\s\\src\\Microsoft.DotNet.Interactive\\Kernel.Static.cs:line 46\r\n   at AgentChat.Example.Share.NotebookUserAgent.CallAsync(IEnumerable`1 messages, CancellationToken ct)\r\n   at AgentChat.AutoReplyAgent.CallAsync(IEnumerable`1 conversation, CancellationToken ct)\r\n   at AgentChat.SequentialGroupChat.CallAsync(IEnumerable`1 conversationWithName, Int32 maxRound, Boolean throwExceptionWhenMaxRoundReached)\r\n   at AgentChat.AgentExtension.SendMessageToAgentAsync(IAgent agent, IAgent receiver, IEnumerable`1 chatHistory, Int32 maxRound, Boolean throwWhenMaxRoundReached, CancellationToken ct)\r\n   at Submission#16.<<Initialize>>d__0.MoveNext()\r\n--- End of stack trace from previous location ---\r\n   at Microsoft.CodeAnalysis.Scripting.ScriptExecutionState.RunSubmissionsAsync[TResult](ImmutableArray`1 precedingExecutors, Func`2 currentExecutor, StrongBox`1 exceptionHolderOpt, Func`2 catchExceptionOpt, CancellationToken cancellationToken)",
     "output_type": "error",
     "traceback": [
      "System.Exception: Input request cancelled\r\n",
      "   at Microsoft.DotNet.Interactive.Kernel.GetInputAsync(String prompt, Boolean isPassword, String typeHint, String valueName) in D:\\a\\_work\\1\\s\\src\\Microsoft.DotNet.Interactive\\Kernel.Static.cs:line 72\r\n",
      "   at Microsoft.DotNet.Interactive.Kernel.GetInputAsync(String prompt, String typeHint, String valueName) in D:\\a\\_work\\1\\s\\src\\Microsoft.DotNet.Interactive\\Kernel.Static.cs:line 46\r\n",
      "   at AgentChat.Example.Share.NotebookUserAgent.CallAsync(IEnumerable`1 messages, CancellationToken ct)\r\n",
      "   at AgentChat.AutoReplyAgent.CallAsync(IEnumerable`1 conversation, CancellationToken ct)\r\n",
      "   at AgentChat.SequentialGroupChat.CallAsync(IEnumerable`1 conversationWithName, Int32 maxRound, Boolean throwExceptionWhenMaxRoundReached)\r\n",
      "   at AgentChat.AgentExtension.SendMessageToAgentAsync(IAgent agent, IAgent receiver, IEnumerable`1 chatHistory, Int32 maxRound, Boolean throwWhenMaxRoundReached, CancellationToken ct)\r\n",
      "   at Submission#16.<<Initialize>>d__0.MoveNext()\r\n",
      "--- End of stack trace from previous location ---\r\n",
      "   at Microsoft.CodeAnalysis.Scripting.ScriptExecutionState.RunSubmissionsAsync[TResult](ImmutableArray`1 precedingExecutors, Func`2 currentExecutor, StrongBox`1 exceptionHolderOpt, Func`2 catchExceptionOpt, CancellationToken cancellationToken)"
     ]
    }
   ],
   "source": [
    "// use runner agent to auto-reply message from coder\n",
    "user = user.WithAutoReply(async (msgs) => {\n",
    "    // if last message contains \"COMPLETE\", stop sending messages to runner agent and fall back to user agent\n",
    "    if (msgs.Last().Content.Contains(\"COMPLETE\"))\n",
    "        return null; // return null to fall back to user agent\n",
    "    \n",
    "    // otherwise, send message to runner agent to either run code or install nuget packages and get the reply\n",
    "    var reply = await runner.SendMessageAsync(msgs);\n",
    "    // the from field must be set to user's name\n",
    "    var message = new Message(ChatRole.Assistant, reply.Content, from: user.Name);\n",
    "    return message;\n",
    "});\n",
    "\n",
    "var codingTask = new Message(ChatRole.User, \"what's the 10th of fibonacci? Print the question and result in the end.\", from: user.Name);\n",
    "\n",
    "await user.SendMessageToAgentAsync(\n",
    "    coder,\n",
    "    new [] {codingTask},\n",
    "    maxRound: 10);"
   ]
  }
 ],
 "metadata": {
  "language_info": {
   "name": "python"
  }
 },
 "nbformat": 4,
 "nbformat_minor": 2
}
