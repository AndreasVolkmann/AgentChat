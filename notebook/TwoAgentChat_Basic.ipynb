{
 "cells": [
  {
   "cell_type": "markdown",
   "metadata": {},
   "source": [
    "### Install packages"
   ]
  },
  {
   "cell_type": "code",
   "execution_count": 2,
   "metadata": {
    "dotnet_interactive": {
     "language": "csharp"
    },
    "polyglot_notebook": {
     "kernelName": "csharp"
    },
    "vscode": {
     "languageId": "polyglot-notebook"
    }
   },
   "outputs": [
    {
     "data": {
      "text/html": [
       "<div><div><strong>Restore sources</strong><ul><li><span>https://www.myget.org/F/agentchat/api/v3/index.json</span></li></ul></div><div></div><div><strong>Installed Packages</strong><ul><li><span>AgentChat.Core, 0.2.0-6606539100</span></li><li><span>AgentChat.GPT, 0.2.0-6606539100</span></li></ul></div></div>"
      ]
     },
     "metadata": {},
     "output_type": "display_data"
    }
   ],
   "source": [
    "#i \"nuget:https://www.myget.org/F/agentchat/api/v3/index.json\"\n",
    "\n",
    "#r \"nuget:AgentChat.Core,*-*\"\n",
    "#r \"nuget:AgentChat.GPT,*-*\""
   ]
  },
  {
   "cell_type": "markdown",
   "metadata": {},
   "source": [
    "### Configure api key for GPT access"
   ]
  },
  {
   "cell_type": "code",
   "execution_count": 6,
   "metadata": {
    "dotnet_interactive": {
     "language": "csharp"
    },
    "polyglot_notebook": {
     "kernelName": "csharp"
    },
    "vscode": {
     "languageId": "polyglot-notebook"
    }
   },
   "outputs": [],
   "source": [
    "using AgentChat;\n",
    "\n",
    "var azureAPIKey = Environment.GetEnvironmentVariable(\"AZURE_OPENAI_API_KEY\");\n",
    "var azureEndpoint = Environment.GetEnvironmentVariable(\"AZURE_OPENAI_ENDPOINT\");\n",
    "var azureGPT35 = Environment.GetEnvironmentVariable(\"AZURE_GPT_35_MODEL_ID\");\n",
    "var gpt35 = GPT.CreateFromAzureOpenAI(azureGPT35, azureAPIKey, azureEndpoint);"
   ]
  },
  {
   "cell_type": "markdown",
   "metadata": {},
   "source": [
    "### Create agents"
   ]
  },
  {
   "cell_type": "code",
   "execution_count": 7,
   "metadata": {
    "dotnet_interactive": {
     "language": "csharp"
    },
    "polyglot_notebook": {
     "kernelName": "csharp"
    },
    "vscode": {
     "languageId": "polyglot-notebook"
    }
   },
   "outputs": [],
   "source": [
    "var alice = gpt35.CreateAgent(\n",
    "    \"Alice\",\n",
    "    \"You are a pre-school math teacher.\",\n",
    "    temperature: 0,\n",
    "    maxToken: 100);\n",
    "\n",
    "var bob = gpt35.CreateAgent(\n",
    "    \"Bob\",\n",
    "    \"You are a student\",\n",
    "    temperature: 0,\n",
    "    maxToken: 100);"
   ]
  },
  {
   "cell_type": "markdown",
   "metadata": {},
   "source": [
    "### Start the conversation\n",
    "\n",
    "The below example shows how to use the TwoAgentChat to start a math class between two agents. The conversation is started by Alice, the math teacher, and Bob, the student, is the only other participant. The conversation is ended when Alice says \"Goodbye\" and Bob responds with \"Bye\"."
   ]
  },
  {
   "cell_type": "code",
   "execution_count": 16,
   "metadata": {
    "dotnet_interactive": {
     "language": "csharp"
    },
    "polyglot_notebook": {
     "kernelName": "csharp"
    },
    "vscode": {
     "languageId": "polyglot-notebook"
    }
   },
   "outputs": [
    {
     "name": "stdout",
     "output_type": "stream",
     "text": [
      "message length 1\n",
      "Message from Bob\n",
      "--------------------\n",
      "Sure, I'm ready to help you with your math questions. Please go ahead and ask the first question.\n",
      "--------------------\n",
      "\n",
      "message length 3\n",
      "Message from Alice\n",
      "--------------------\n",
      "Great! Here's the first question:\n",
      "\n",
      "What is the square root of 64?\n",
      "\n",
      "Please provide your answer.\n",
      "--------------------\n",
      "\n",
      "message length 4\n",
      "Message from Bob\n",
      "--------------------\n",
      "The square root of 64 is 8.\n",
      "--------------------\n",
      "\n",
      "message length 5\n",
      "Message from Alice\n",
      "--------------------\n",
      "That's correct! Well done!\n",
      "\n",
      "Here's the next question:\n",
      "\n",
      "What is 7 multiplied by 9?\n",
      "\n",
      "Please provide your answer.\n",
      "\n",
      "--------------------\n",
      "\n",
      "message length 6\n",
      "Message from Bob\n",
      "--------------------\n",
      "7 multiplied by 9 is equal to 63.\n",
      "\n",
      "--------------------\n",
      "\n",
      "message length 7\n",
      "Message from Alice\n",
      "--------------------\n",
      "That's correct! Good job!\n",
      "\n",
      "Here's the final question:\n",
      "\n",
      "What is 15 divided by 3?\n",
      "\n",
      "Please provide your answer.\n",
      "\n",
      "\n",
      "--------------------\n",
      "\n",
      "message length 8\n",
      "Message from Bob\n",
      "--------------------\n",
      "15 divided by 3 is equal to 5.\n",
      "\n",
      "\n",
      "--------------------\n",
      "\n",
      "message length 9\n",
      "Message from Alice\n",
      "--------------------\n",
      "That's correct! Well done!\n",
      "\n",
      "Congratulations, you have answered all the math questions correctly. Great job!\n",
      "\n",
      "Thank you for your help. If you have any more questions or need further assistance, feel free to ask.\n",
      "\n",
      "[GROUPCHAT_TERMINATE]\n",
      "--------------------\n",
      "\n"
     ]
    }
   ],
   "source": [
    "using System.Linq;\n",
    "\n",
    "var conversation = Enumerable.Empty<IChatMessage>();\n",
    "conversation = await alice.SendMessageAsync(bob, @\"I'm going to give you 3 math question,\n",
    "one question at a time.\n",
    "You are going to answer it.\n",
    "If your answer is correct,\n",
    "I'll give you the next question.\n",
    "If all questions being resolved, I'll terminate the chat by saying [GROUPCHAT_TERMINATE]\", conversation, maxRound: 1, throwWhenMaxRoundReached: false);\n",
    "conversation = await bob.SendMessageAsync(alice, \"Ok\", conversation, maxRound: 14, throwWhenMaxRoundReached: false);"
   ]
  },
  {
   "cell_type": "markdown",
   "metadata": {},
   "source": [
    "### Retrieve the conversation history"
   ]
  },
  {
   "cell_type": "code",
   "execution_count": 17,
   "metadata": {
    "dotnet_interactive": {
     "language": "csharp"
    },
    "polyglot_notebook": {
     "kernelName": "csharp"
    },
    "vscode": {
     "languageId": "polyglot-notebook"
    }
   },
   "outputs": [
    {
     "data": {
      "text/html": [
       "<div class=\"dni-plaintext\"><pre>10</pre></div><style>\r\n",
       ".dni-code-hint {\r\n",
       "    font-style: italic;\r\n",
       "    overflow: hidden;\r\n",
       "    white-space: nowrap;\r\n",
       "}\r\n",
       ".dni-treeview {\r\n",
       "    white-space: nowrap;\r\n",
       "}\r\n",
       ".dni-treeview td {\r\n",
       "    vertical-align: top;\r\n",
       "    text-align: start;\r\n",
       "}\r\n",
       "details.dni-treeview {\r\n",
       "    padding-left: 1em;\r\n",
       "}\r\n",
       "table td {\r\n",
       "    text-align: start;\r\n",
       "}\r\n",
       "table tr { \r\n",
       "    vertical-align: top; \r\n",
       "    margin: 0em 0px;\r\n",
       "}\r\n",
       "table tr td pre \r\n",
       "{ \r\n",
       "    vertical-align: top !important; \r\n",
       "    margin: 0em 0px !important;\r\n",
       "} \r\n",
       "table th {\r\n",
       "    text-align: start;\r\n",
       "}\r\n",
       "</style>"
      ]
     },
     "metadata": {},
     "output_type": "display_data"
    }
   ],
   "source": [
    "conversation.Count()"
   ]
  }
 ],
 "metadata": {
  "language_info": {
   "name": "python"
  }
 },
 "nbformat": 4,
 "nbformat_minor": 2
}
