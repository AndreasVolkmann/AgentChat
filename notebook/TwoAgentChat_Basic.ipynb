{
 "cells": [
  {
   "cell_type": "markdown",
   "metadata": {},
   "source": [
    "### Install packages"
   ]
  },
  {
   "cell_type": "code",
   "execution_count": 1,
   "metadata": {
    "dotnet_interactive": {
     "language": "csharp"
    },
    "polyglot_notebook": {
     "kernelName": "csharp"
    },
    "vscode": {
     "languageId": "polyglot-notebook"
    }
   },
   "outputs": [
    {
     "data": {
      "text/html": [
       "<div><div><strong>Restore sources</strong><ul><li><span>https://www.myget.org/F/agentchat/api/v3/index.json</span></li></ul></div><div></div><div><strong>Installed Packages</strong><ul><li><span>AgentChat.Core, 0.2.0-6606840838</span></li><li><span>AgentChat.GPT, 0.2.0-6606840838</span></li></ul></div></div>"
      ]
     },
     "metadata": {},
     "output_type": "display_data"
    }
   ],
   "source": [
    "#i \"nuget:https://www.myget.org/F/agentchat/api/v3/index.json\"\n",
    "\n",
    "#r \"nuget:AgentChat.Core,*-*\"\n",
    "#r \"nuget:AgentChat.GPT,*-*\""
   ]
  },
  {
   "cell_type": "markdown",
   "metadata": {},
   "source": [
    "### Configure api key for GPT access"
   ]
  },
  {
   "cell_type": "code",
   "execution_count": 2,
   "metadata": {
    "dotnet_interactive": {
     "language": "csharp"
    },
    "polyglot_notebook": {
     "kernelName": "csharp"
    },
    "vscode": {
     "languageId": "polyglot-notebook"
    }
   },
   "outputs": [],
   "source": [
    "using AgentChat;\n",
    "\n",
    "var azureAPIKey = Environment.GetEnvironmentVariable(\"AZURE_OPENAI_API_KEY\");\n",
    "var azureEndpoint = Environment.GetEnvironmentVariable(\"AZURE_OPENAI_ENDPOINT\");\n",
    "var azureGPT35 = Environment.GetEnvironmentVariable(\"AZURE_GPT_35_MODEL_ID\");\n",
    "var gpt35 = GPT.CreateFromAzureOpenAI(azureGPT35, azureAPIKey, azureEndpoint);"
   ]
  },
  {
   "cell_type": "markdown",
   "metadata": {},
   "source": [
    "### Create agents"
   ]
  },
  {
   "cell_type": "code",
   "execution_count": 3,
   "metadata": {
    "dotnet_interactive": {
     "language": "csharp"
    },
    "polyglot_notebook": {
     "kernelName": "csharp"
    },
    "vscode": {
     "languageId": "polyglot-notebook"
    }
   },
   "outputs": [],
   "source": [
    "var alice = gpt35.CreateAgent(\n",
    "    \"Alice\",\n",
    "    \"You are a pre-school math teacher.\",\n",
    "    temperature: 0,\n",
    "    maxToken: 100);\n",
    "\n",
    "var bob = gpt35.CreateAgent(\n",
    "    \"Bob\",\n",
    "    \"You are a student\",\n",
    "    temperature: 0,\n",
    "    maxToken: 100);"
   ]
  },
  {
   "cell_type": "markdown",
   "metadata": {},
   "source": [
    "### Start the conversation\n",
    "\n",
    "The below example shows how to use the TwoAgentChat to start a math class between two agents. The conversation is started by Alice, the math teacher, and Bob, the student, is the only other participant. The conversation is ended when Alice says \"Goodbye\" and Bob responds with \"Bye\"."
   ]
  },
  {
   "cell_type": "code",
   "execution_count": 4,
   "metadata": {
    "dotnet_interactive": {
     "language": "csharp"
    },
    "polyglot_notebook": {
     "kernelName": "csharp"
    },
    "vscode": {
     "languageId": "polyglot-notebook"
    }
   },
   "outputs": [
    {
     "name": "stdout",
     "output_type": "stream",
     "text": [
      "Message from Bob\n",
      "--------------------\n",
      "Sure, I'm ready to answer your math questions. Please go ahead and ask the first question.\n",
      "--------------------\n",
      "\n",
      "Message from Alice\n",
      "--------------------\n",
      "Great! Here's the first question:\n",
      "\n",
      "Question 1: How many sides does a triangle have?\n",
      "\n",
      "Please provide your answer.\n",
      "--------------------\n",
      "\n",
      "Message from Bob\n",
      "--------------------\n",
      "A triangle has 3 sides.\n",
      "\n",
      "--------------------\n",
      "\n",
      "Message from Alice\n",
      "--------------------\n",
      "That's correct! A triangle indeed has 3 sides. Well done!\n",
      "\n",
      "Now, let's move on to the next question:\n",
      "\n",
      "Question 2: What is the sum of 2 and 3?\n",
      "\n",
      "Please provide your answer.\n",
      "\n",
      "--------------------\n",
      "\n",
      "Message from Bob\n",
      "--------------------\n",
      "The sum of 2 and 3 is 5.\n",
      "\n",
      "\n",
      "--------------------\n",
      "\n",
      "Message from Alice\n",
      "--------------------\n",
      "Great job! You are absolutely correct. The sum of 2 and 3 is indeed 5.\n",
      "\n",
      "Now, let's move on to the final question:\n",
      "\n",
      "Question 3: How many fingers does a person have on one hand?\n",
      "\n",
      "Please provide your answer.\n",
      "\n",
      "\n",
      "--------------------\n",
      "\n",
      "Message from Bob\n",
      "--------------------\n",
      "A person has 5 fingers on one hand.\n",
      "\n",
      "\n",
      "--------------------\n",
      "\n",
      "Message from Alice\n",
      "--------------------\n",
      "Well done! You are absolutely correct. A person has 5 fingers on one hand.\n",
      "\n",
      "Congratulations on answering all the questions correctly! You did a fantastic job.\n",
      "\n",
      "Thank you for participating in this math challenge. If you have any more questions or need further assistance, feel free to ask.\n",
      "\n",
      "[GROUPCHAT_TERMINATE]\n",
      "--------------------\n",
      "\n"
     ]
    }
   ],
   "source": [
    "using System.Linq;\n",
    "\n",
    "var conversation = Enumerable.Empty<IChatMessage>();\n",
    "conversation = await alice.SendMessageAsync(bob, @\"I'm going to give you 3 math question,\n",
    "one question at a time.\n",
    "You are going to answer it.\n",
    "If your answer is correct,\n",
    "I'll give you the next question.\n",
    "If all questions being resolved, I'll terminate the chat by saying [GROUPCHAT_TERMINATE]\", conversation, maxRound: 1, throwWhenMaxRoundReached: false);\n",
    "conversation = await bob.SendMessageAsync(alice, \"Ok\", conversation, maxRound: 14, throwWhenMaxRoundReached: false);"
   ]
  },
  {
   "cell_type": "markdown",
   "metadata": {},
   "source": [
    "### Retrieve the conversation history"
   ]
  },
  {
   "cell_type": "code",
   "execution_count": 5,
   "metadata": {
    "dotnet_interactive": {
     "language": "csharp"
    },
    "polyglot_notebook": {
     "kernelName": "csharp"
    },
    "vscode": {
     "languageId": "polyglot-notebook"
    }
   },
   "outputs": [
    {
     "data": {
      "text/html": [
       "<div class=\"dni-plaintext\"><pre>10</pre></div><style>\r\n",
       ".dni-code-hint {\r\n",
       "    font-style: italic;\r\n",
       "    overflow: hidden;\r\n",
       "    white-space: nowrap;\r\n",
       "}\r\n",
       ".dni-treeview {\r\n",
       "    white-space: nowrap;\r\n",
       "}\r\n",
       ".dni-treeview td {\r\n",
       "    vertical-align: top;\r\n",
       "    text-align: start;\r\n",
       "}\r\n",
       "details.dni-treeview {\r\n",
       "    padding-left: 1em;\r\n",
       "}\r\n",
       "table td {\r\n",
       "    text-align: start;\r\n",
       "}\r\n",
       "table tr { \r\n",
       "    vertical-align: top; \r\n",
       "    margin: 0em 0px;\r\n",
       "}\r\n",
       "table tr td pre \r\n",
       "{ \r\n",
       "    vertical-align: top !important; \r\n",
       "    margin: 0em 0px !important;\r\n",
       "} \r\n",
       "table th {\r\n",
       "    text-align: start;\r\n",
       "}\r\n",
       "</style>"
      ]
     },
     "metadata": {},
     "output_type": "display_data"
    }
   ],
   "source": [
    "conversation.Count()"
   ]
  }
 ],
 "metadata": {
  "kernelspec": {
   "display_name": ".NET (C#)",
   "language": "C#",
   "name": ".net-csharp"
  },
  "language_info": {
   "name": "python"
  },
  "polyglot_notebook": {
   "kernelInfo": {
    "defaultKernelName": "csharp",
    "items": [
     {
      "aliases": [],
      "name": "csharp"
     }
    ]
   }
  }
 },
 "nbformat": 4,
 "nbformat_minor": 2
}
