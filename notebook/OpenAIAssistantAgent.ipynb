{
 "cells": [
  {
   "cell_type": "markdown",
   "metadata": {},
   "source": [
    "### OpenAI Assistant Agent\n",
    "\n",
    "This notebook shows how to consume [`OpenAI Assistant API`](https://platform.openai.com/docs/assistants/overview) using `OpenAIAssistantAgent` class."
   ]
  },
  {
   "cell_type": "code",
   "execution_count": 1,
   "metadata": {
    "dotnet_interactive": {
     "language": "csharp"
    },
    "polyglot_notebook": {
     "kernelName": "csharp"
    },
    "vscode": {
     "languageId": "polyglot-notebook"
    }
   },
   "outputs": [
    {
     "data": {
      "text/html": [
       "<div><div><strong>Restore sources</strong><ul><li><span>https://www.myget.org/F/agentchat/api/v3/index.json</span></li></ul></div><div></div><div><strong>Installed Packages</strong><ul><li><span>AgentChat.OpenAI, 0.4.2</span></li></ul></div></div>"
      ]
     },
     "metadata": {},
     "output_type": "display_data"
    }
   ],
   "source": [
    "// Install dependencies\n",
    "#i \"nuget:https://www.myget.org/F/agentchat/api/v3/index.json\"\n",
    "\n",
    "#r \"nuget:AgentChat.OpenAI,*-*\""
   ]
  },
  {
   "cell_type": "markdown",
   "metadata": {},
   "source": [
    "#### Create `OpenAIAssistantAgent`\n",
    "\n",
    "You can either create a new `OpenAIAssistantAgent`, which create a new `OpenAI Assistant` on the server, or load an existing `OpenAI Assistant`."
   ]
  },
  {
   "cell_type": "code",
   "execution_count": 2,
   "metadata": {
    "dotnet_interactive": {
     "language": "csharp"
    },
    "polyglot_notebook": {
     "kernelName": "csharp"
    },
    "vscode": {
     "languageId": "polyglot-notebook"
    }
   },
   "outputs": [],
   "source": [
    "using AgentChat.OpenAI;\n",
    "using Azure.AI.OpenAI;\n",
    "\n",
    "var apiKey = Environment.GetEnvironmentVariable(\"OPENAI_API_KEY\") ?? throw new Exception(\"OPENAI_API_KEY not set\");\n",
    "var openAIClient = new OpenAIClient(apiKey);\n",
    "var assistant = await OpenAIAssistantAgent.CreateAsync(\n",
    "    openAIClient,\n",
    "    name: \"assistant\",\n",
    "    roleInformation: \"You are a helpful AI assistant\",\n",
    "    description: \"A helpful AI assistant that will answer your questions\",\n",
    "    model: \"gpt-3.5-turbo\",\n",
    "    useCodeInterpreter: false,\n",
    "    useRetrieval: false);\n",
    "\n",
    "// retrieve existing assistant\n",
    "var id = assistant.ID;\n",
    "var assistantObject = await openAIClient.RetrieveAssistantAsync(id);\n",
    "var retrievedAssistant = new OpenAIAssistantAgent(openAIClient, assistantObject);"
   ]
  },
  {
   "cell_type": "markdown",
   "metadata": {},
   "source": [
    "#### Interact with `OpenAIAssistantAgent`"
   ]
  },
  {
   "cell_type": "code",
   "execution_count": 3,
   "metadata": {
    "dotnet_interactive": {
     "language": "csharp"
    },
    "polyglot_notebook": {
     "kernelName": "csharp"
    },
    "vscode": {
     "languageId": "polyglot-notebook"
    }
   },
   "outputs": [
    {
     "name": "stdout",
     "output_type": "stream",
     "text": [
      "Message from assistant\n",
      "--------------------\n",
      "Hello! I'm an AI assistant, so I don't have feelings in the same way humans do. But I'm here and ready to assist you with anything you need! How can I help you today?\r\n",
      "\n",
      "--------------------\n",
      "\r\n"
     ]
    }
   ],
   "source": [
    "using AgentChat;\n",
    "var reply = await assistant.SendMessageAsync(\"Hello, how are you?\");\n",
    "reply.PrettyPrintMessage();"
   ]
  },
  {
   "cell_type": "markdown",
   "metadata": {},
   "source": [
    "#### use code interpreter to resolve task via coding\n",
    "\n",
    "You can enable `OpenAI code_interpreter` tool in `OpenAIAssistantAgent` by setting `useCodeInterpreter` to true"
   ]
  },
  {
   "cell_type": "code",
   "execution_count": 4,
   "metadata": {
    "dotnet_interactive": {
     "language": "csharp"
    },
    "polyglot_notebook": {
     "kernelName": "csharp"
    },
    "vscode": {
     "languageId": "polyglot-notebook"
    }
   },
   "outputs": [
    {
     "name": "stdout",
     "output_type": "stream",
     "text": [
      "Message from assistant\n",
      "--------------------\n",
      "To calculate the 33rd Fibonacci number, we can use the formula Fn = Fn-1 + Fn-2, where F1 = 1 and F2 = 1.\n",
      "\n",
      "Using this formula, we can find that the 33rd Fibonacci number is 3524578.\n",
      "\n",
      "Similarly, the 23rd Fibonacci number is 28657.\n",
      "\n",
      "To find the difference between the 33rd and 23rd Fibonacci numbers:\n",
      "\n",
      "3524578 - 28657 = 3495921\n",
      "\n",
      "Therefore, the 33rd Fibonacci minus the 23rd Fibonacci is 3,495,921.\n",
      "\n",
      "--------------------\n",
      "\n",
      "Message from assistant\n",
      "--------------------\n",
      "To find the 33rd Fibonacci number, we need to calculate the sum of the 32nd and 31st Fibonacci numbers. Similarly, to find the 23rd Fibonacci number, we need to calculate the sum of the 22nd and 21st Fibonacci numbers. We can subtract the 23rd Fibonacci number from the 33rd Fibonacci number to get the result.\n",
      "The result of the 33rd Fibonacci number minus the 23rd Fibonacci number is 3,495,921.\n",
      "\n",
      "--------------------\n",
      "\n"
     ]
    }
   ],
   "source": [
    "var question = \"what's 33th of fibonacci minus 23th of fibonacci\"; //  3,495,921\n",
    "// agent without code interpreter\n",
    "var reply = await assistant.SendMessageAsync(question);\n",
    "reply.PrettyPrintMessage();\n",
    "\n",
    "// agent with code interpreter\n",
    "var assistantWithCodeInterpreter = await OpenAIAssistantAgent.CreateAsync(\n",
    "    openAIClient,\n",
    "    name: \"assistant\",\n",
    "    roleInformation: \"You are a helpful AI assistant\",\n",
    "    model: \"gpt-3.5-turbo\",\n",
    "    description: \"A helpful AI assistant that will answer your questions\",\n",
    "    useCodeInterpreter: true,\n",
    "    useRetrieval: false);\n",
    "reply = await assistantWithCodeInterpreter.SendMessageAsync(question);\n",
    "reply.PrettyPrintMessage();"
   ]
  },
  {
   "cell_type": "markdown",
   "metadata": {},
   "source": [
    "#### Custom function call\n",
    "You can enable Function calling in `OpenAIAssistantAgent` by passing a `FunctionMap` when creating `OpenAIAssistantAgent`"
   ]
  },
  {
   "cell_type": "code",
   "execution_count": 5,
   "metadata": {
    "dotnet_interactive": {
     "language": "csharp"
    },
    "polyglot_notebook": {
     "kernelName": "csharp"
    },
    "vscode": {
     "languageId": "polyglot-notebook"
    }
   },
   "outputs": [
    {
     "name": "stdout",
     "output_type": "stream",
     "text": [
      "number: 5\n",
      "Too low\n",
      "number: 8\n",
      "Too high\n",
      "number: 6\n",
      "Too low\n",
      "number: 7\n",
      "You guessed it!\n",
      "Message from assistant\n",
      "--------------------\n",
      "The number is 7.\n",
      "\n",
      "--------------------\n",
      "\n"
     ]
    }
   ],
   "source": [
    "using System.Text.Json;\n",
    "\n",
    "var guessNumberFunctionDefinition = new FunctionDefinition\n",
    "\t{\n",
    "\t\tName = @\"GuessNumber\",\n",
    "        Description = \"\"\"\n",
    "Guess integer number between 1 and 10\n",
    "\"\"\",\n",
    "        Parameters = BinaryData.FromObjectAsJson(new\n",
    "        {\n",
    "            Type = \"object\",\n",
    "            Properties = new\n",
    "\t\t\t{\n",
    "\t\t\t    number = new\n",
    "\t\t\t    {\n",
    "\t\t\t\t    Type = @\"number\",\n",
    "\t\t\t\t    Description = @\"number to guess\",\n",
    "\t\t\t    },\n",
    "            },\n",
    "            Required = new []\n",
    "\t\t\t{\n",
    "\t\t\t    \"number\",\n",
    "\t\t\t},\n",
    "        },\n",
    "        new JsonSerializerOptions\n",
    "\t\t{\n",
    "\t\t\tPropertyNamingPolicy = JsonNamingPolicy.CamelCase,\n",
    "\t\t})\n",
    "    };\n",
    "\n",
    "var guessNumberFunc = async (string args) => {\n",
    "\tvar obj = JsonSerializer.Deserialize<JsonElement>(args);\n",
    "\tvar number = obj.GetProperty(\"number\").GetInt32();\n",
    "\tConsole.WriteLine($\"number: {number}\");\n",
    "\tif (number < 1 || number > 10)\n",
    "\t{\n",
    "\t\tConsole.WriteLine(\"Number must be between 1 and 10\");\n",
    "\t\treturn \"Number must be between 1 and 10\";\n",
    "\t}\n",
    "\n",
    "\tif (number == 7)\n",
    "\t{\n",
    "\t\tConsole.WriteLine(\"You guessed it!\");\n",
    "\t\treturn \"You guessed it!\";\n",
    "\t}\n",
    "\n",
    "\tif (number < 7)\n",
    "\t{\n",
    "\t\tConsole.WriteLine(\"Too low\");\n",
    "\t\treturn \"Too low\";\n",
    "\t}\n",
    "\n",
    "\tConsole.WriteLine(\"Too high\");\n",
    "\treturn \"Too high\";\n",
    "};\n",
    "\n",
    "var assistant = await OpenAIAssistantAgent.CreateAsync(\n",
    "\tclient: openAIClient,\n",
    "\tname: \"assistant\",\n",
    "\troleInformation: \"You are a helpful AI assistant\",\n",
    "\tmodel: \"gpt-3.5-turbo\",\n",
    "\tdescription: \"A helpful AI assistant that will answer your questions\",\n",
    "\tuseCodeInterpreter: false,\n",
    "\tuseRetrieval: false,\n",
    "\tfunctionMaps: new Dictionary<FunctionDefinition, Func<string, Task<string>>>\n",
    "\t{\n",
    "\t\t{ guessNumberFunctionDefinition, guessNumberFunc },\n",
    "\t}\n",
    ");\n",
    "\n",
    "var reply = await assistant.SendMessageAsync(\"guess a integer number between 1 and 10, and tell me the number once you guess it\");\n",
    "\n",
    "reply.PrettyPrintMessage();\n"
   ]
  },
  {
   "cell_type": "markdown",
   "metadata": {},
   "source": [
    "#### Remove `OpenAIAssistantAgent`\n",
    "\n",
    "You can remove the `OpenAI Assistant` from portal by calling `RemoveAssistantAsync`"
   ]
  },
  {
   "cell_type": "code",
   "execution_count": 6,
   "metadata": {
    "dotnet_interactive": {
     "language": "csharp"
    },
    "polyglot_notebook": {
     "kernelName": "csharp"
    },
    "vscode": {
     "languageId": "polyglot-notebook"
    }
   },
   "outputs": [],
   "source": [
    "// remove assistant\n",
    "await openAIClient.RemoveAssistantAsync(assistant.ID);\n",
    "\n",
    "// remove assistant with code interpreter\n",
    "await openAIClient.RemoveAssistantAsync(assistantWithCodeInterpreter.ID);"
   ]
  }
 ],
 "metadata": {
  "language_info": {
   "name": "python"
  }
 },
 "nbformat": 4,
 "nbformat_minor": 2
}
