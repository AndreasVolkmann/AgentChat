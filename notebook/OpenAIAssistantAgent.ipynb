{
 "cells": [
  {
   "cell_type": "markdown",
   "metadata": {},
   "source": [
    "### OpenAI Assistant Agent\n",
    "\n",
    "This notebook shows how to consume [`OpenAI Assistant API`](https://platform.openai.com/docs/assistants/overview) using `OpenAIAssistantAgent` class."
   ]
  },
  {
   "cell_type": "code",
   "execution_count": 1,
   "metadata": {
    "dotnet_interactive": {
     "language": "csharp"
    },
    "polyglot_notebook": {
     "kernelName": "csharp"
    },
    "vscode": {
     "languageId": "polyglot-notebook"
    }
   },
   "outputs": [
    {
     "data": {
      "text/html": [
       "<div><div><strong>Restore sources</strong><ul><li><span>https://www.myget.org/F/agentchat/api/v3/index.json</span></li></ul></div><div></div><div><strong>Installed Packages</strong><ul><li><span>AgentChat.OpenAI, 0.4.2</span></li></ul></div></div>"
      ]
     },
     "metadata": {},
     "output_type": "display_data"
    }
   ],
   "source": [
    "// Install dependencies\n",
    "#i \"nuget:https://www.myget.org/F/agentchat/api/v3/index.json\"\n",
    "\n",
    "#r \"nuget:AgentChat.OpenAI,*-*\""
   ]
  },
  {
   "cell_type": "markdown",
   "metadata": {},
   "source": [
    "#### Create `OpenAIAssistantAgent`\n",
    "\n",
    "You can either create a new `OpenAIAssistantAgent`, which create a new `OpenAI Assistant` on the server, or load an existing `OpenAI Assistant`."
   ]
  },
  {
   "cell_type": "code",
   "execution_count": 2,
   "metadata": {
    "dotnet_interactive": {
     "language": "csharp"
    },
    "polyglot_notebook": {
     "kernelName": "csharp"
    },
    "vscode": {
     "languageId": "polyglot-notebook"
    }
   },
   "outputs": [],
   "source": [
    "using AgentChat.OpenAI;\n",
    "using Azure.AI.OpenAI;\n",
    "\n",
    "var apiKey = Environment.GetEnvironmentVariable(\"OPENAI_API_KEY\") ?? throw new Exception(\"OPENAI_API_KEY not set\");\n",
    "var openAIClient = new OpenAIClient(apiKey);\n",
    "var assistant = await OpenAIAssistantAgent.CreateAsync(\n",
    "    openAIClient,\n",
    "    name: \"assistant\",\n",
    "    roleInformation: \"You are a helpful AI assistant\",\n",
    "    description: \"A helpful AI assistant that will answer your questions\",\n",
    "    model: \"gpt-3.5-turbo\",\n",
    "    useCodeInterpreter: false,\n",
    "    useRetrieval: false);\n",
    "\n",
    "// retrieve existing assistant\n",
    "var id = assistant.ID;\n",
    "var assistantObject = await openAIClient.RetrieveAssistantAsync(id);\n",
    "var retrievedAssistant = new OpenAIAssistantAgent(openAIClient, assistantObject);"
   ]
  },
  {
   "cell_type": "markdown",
   "metadata": {},
   "source": [
    "#### Interact with `OpenAIAssistantAgent`"
   ]
  },
  {
   "cell_type": "code",
   "execution_count": 3,
   "metadata": {
    "dotnet_interactive": {
     "language": "csharp"
    },
    "polyglot_notebook": {
     "kernelName": "csharp"
    },
    "vscode": {
     "languageId": "polyglot-notebook"
    }
   },
   "outputs": [
    {
     "name": "stdout",
     "output_type": "stream",
     "text": [
      "Message from assistant\n",
      "--------------------\n",
      "Hello! I'm an AI assistant, so I don't have emotions, but I'm here to help you with any questions or tasks you have. How can I assist you today?\r\n",
      "\n",
      "--------------------\n",
      "\r\n"
     ]
    }
   ],
   "source": [
    "using AgentChat;\n",
    "var reply = await assistant.SendMessageAsync(\"Hello, how are you?\");\n",
    "reply.PrettyPrintMessage();"
   ]
  },
  {
   "cell_type": "markdown",
   "metadata": {},
   "source": [
    "#### use code interpreter to resolve task via coding\n",
    "\n",
    "You can enable `OpenAI code_interpreter` tool in `OpenAIAssistantAgent` by setting `useCodeInterpreter` to true"
   ]
  },
  {
   "cell_type": "code",
   "execution_count": 4,
   "metadata": {
    "dotnet_interactive": {
     "language": "csharp"
    },
    "polyglot_notebook": {
     "kernelName": "csharp"
    },
    "vscode": {
     "languageId": "polyglot-notebook"
    }
   },
   "outputs": [
    {
     "name": "stdout",
     "output_type": "stream",
     "text": [
      "Message from assistant\n",
      "--------------------\n",
      "To calculate the difference between the 33rd and 23rd Fibonacci numbers, we can use the formula for the nth Fibonacci number: \n",
      "\n",
      "F(n) = F(n-1) + F(n-2)\n",
      "\n",
      "First, let's find the 33rd Fibonacci number:\n",
      "\n",
      "F(33) = F(32) + F(31)\n",
      "\n",
      "Now, let's find the 32nd Fibonacci number:\n",
      "\n",
      "F(32) = F(31) + F(30)\n",
      "\n",
      "Now, let's find the 31st Fibonacci number:\n",
      "\n",
      "F(31) = F(30) + F(29)\n",
      "\n",
      "Next, let's find the 30th Fibonacci number:\n",
      "\n",
      "F(30) = F(29) + F(28)\n",
      "\n",
      "Now, let's find the 29th Fibonacci number:\n",
      "\n",
      "F(29) = F(28) + F(27)\n",
      "\n",
      "Now, let's find the 28th Fibonacci number:\n",
      "\n",
      "F(28) = F(27) + F(26)\n",
      "\n",
      "Now, let's find the 27th Fibonacci number:\n",
      "\n",
      "F(27) = F(26) + F(25)\n",
      "\n",
      "Now, let's find the 26th Fibonacci number:\n",
      "\n",
      "F(26) = F(25) + F(24)\n",
      "\n",
      "Now, let's find the 25th Fibonacci number:\n",
      "\n",
      "F(25) = F(24) + F(23)\n",
      "\n",
      "Next, let's find the 24th Fibonacci number:\n",
      "\n",
      "F(24) = F(23) + F(22)\n",
      "\n",
      "Now, let's find the 23rd Fibonacci number:\n",
      "\n",
      "F(23) = F(22) + F(21)\n",
      "\n",
      "Finally, substituting all the values back into our original equation, we have:\n",
      "\n",
      "F(33) = (F(32) + F(31)) = ((F(31) + F(30)) + (F(30) + F(29))) = (((F(30) + F(29)) + (F(29) + F(28))) + ((F(29) + F(28)) + (F(28) + F(27))))\n",
      "\n",
      "F(33) = ((((F(29) + F(28)) + (F(28) + F(27))) + ((F(28) + F(27)) + (F(27) + F(26)))) + (((F(28) + F(27)) + (F(27) + F(26))) + ((F(27) + F(26)) + (F(26) + F(25)))))\n",
      "\n",
      "Now we can calculate the value of F(33) by continuously substituting the Fibonacci numbers until we reach F(2) and F(1).\n",
      "\n",
      "Similarly, we can calculate the value of F(23) by substituting and adding the Fibonacci numbers until we reach F(2) and F(1).\n",
      "\n",
      "Then, we can subtract F(23) from F(33) to obtain the final result.\n",
      "\n",
      "--------------------\n",
      "\n",
      "Message from assistant\n",
      "--------------------\n",
      "To calculate the 33rd Fibonacci number and the 23rd Fibonacci number, we start with the first two numbers in the sequence (0 and 1) and then use the following formula:\n",
      "\n",
      "F(n) = F(n-1) + F(n-2)\n",
      "\n",
      "Let's calculate the 33rd Fibonacci number and the 23rd Fibonacci number and then subtract them.\n",
      "The 33rd Fibonacci number minus the 23rd Fibonacci number is 3,495,921.\n",
      "\n",
      "--------------------\n",
      "\n"
     ]
    }
   ],
   "source": [
    "var question = \"what's 33th of fibonacci minus 23th of fibonacci\"; //  3,495,921\n",
    "// agent without code interpreter\n",
    "var reply = await assistant.SendMessageAsync(question);\n",
    "reply.PrettyPrintMessage();\n",
    "\n",
    "// agent with code interpreter\n",
    "var assistantWithCodeInterpreter = await OpenAIAssistantAgent.CreateAsync(\n",
    "    openAIClient,\n",
    "    name: \"assistant\",\n",
    "    roleInformation: \"You are a helpful AI assistant\",\n",
    "    model: \"gpt-3.5-turbo\",\n",
    "    description: \"A helpful AI assistant that will answer your questions\",\n",
    "    useCodeInterpreter: true,\n",
    "    useRetrieval: false);\n",
    "reply = await assistantWithCodeInterpreter.SendMessageAsync(question);\n",
    "reply.PrettyPrintMessage();"
   ]
  },
  {
   "cell_type": "markdown",
   "metadata": {},
   "source": [
    "#### Custom function call\n",
    "You can enable Function calling in `OpenAIAssistantAgent` by passing a `FunctionMap` when creating `OpenAIAssistantAgent`"
   ]
  },
  {
   "cell_type": "code",
   "execution_count": 5,
   "metadata": {
    "dotnet_interactive": {
     "language": "csharp"
    },
    "polyglot_notebook": {
     "kernelName": "csharp"
    },
    "vscode": {
     "languageId": "polyglot-notebook"
    }
   },
   "outputs": [
    {
     "name": "stdout",
     "output_type": "stream",
     "text": [
      "number: 5\n",
      "Too low\n",
      "number: 8\n",
      "Too high\n",
      "number: 6\n",
      "Too low\n",
      "number: 7\n",
      "You guessed it!\n",
      "Message from assistant\n",
      "--------------------\n",
      "The number is 7.\n",
      "\n",
      "--------------------\n",
      "\n"
     ]
    }
   ],
   "source": [
    "using System.Text.Json;\n",
    "\n",
    "var guessNumberFunctionDefinition = new FunctionDefinition\n",
    "\t{\n",
    "\t\tName = @\"GuessNumber\",\n",
    "        Description = \"\"\"\n",
    "Guess integer number between 1 and 10\n",
    "\"\"\",\n",
    "        Parameters = BinaryData.FromObjectAsJson(new\n",
    "        {\n",
    "            Type = \"object\",\n",
    "            Properties = new\n",
    "\t\t\t{\n",
    "\t\t\t    number = new\n",
    "\t\t\t    {\n",
    "\t\t\t\t    Type = @\"number\",\n",
    "\t\t\t\t    Description = @\"number to guess\",\n",
    "\t\t\t    },\n",
    "            },\n",
    "            Required = new []\n",
    "\t\t\t{\n",
    "\t\t\t    \"number\",\n",
    "\t\t\t},\n",
    "        },\n",
    "        new JsonSerializerOptions\n",
    "\t\t{\n",
    "\t\t\tPropertyNamingPolicy = JsonNamingPolicy.CamelCase,\n",
    "\t\t})\n",
    "    };\n",
    "\n",
    "var guessNumberFunc = async (string args) => {\n",
    "\tvar obj = JsonSerializer.Deserialize<JsonElement>(args);\n",
    "\tvar number = obj.GetProperty(\"number\").GetInt32();\n",
    "\tConsole.WriteLine($\"number: {number}\");\n",
    "\tif (number < 1 || number > 10)\n",
    "\t{\n",
    "\t\tConsole.WriteLine(\"Number must be between 1 and 10\");\n",
    "\t\treturn \"Number must be between 1 and 10\";\n",
    "\t}\n",
    "\n",
    "\tif (number == 7)\n",
    "\t{\n",
    "\t\tConsole.WriteLine(\"You guessed it!\");\n",
    "\t\treturn \"You guessed it!\";\n",
    "\t}\n",
    "\n",
    "\tif (number < 7)\n",
    "\t{\n",
    "\t\tConsole.WriteLine(\"Too low\");\n",
    "\t\treturn \"Too low\";\n",
    "\t}\n",
    "\n",
    "\tConsole.WriteLine(\"Too high\");\n",
    "\treturn \"Too high\";\n",
    "};\n",
    "\n",
    "var assistant = await OpenAIAssistantAgent.CreateAsync(\n",
    "\tclient: openAIClient,\n",
    "\tname: \"assistant\",\n",
    "\troleInformation: \"You are a helpful AI assistant\",\n",
    "\tmodel: \"gpt-3.5-turbo\",\n",
    "\tdescription: \"A helpful AI assistant that will answer your questions\",\n",
    "\tuseCodeInterpreter: false,\n",
    "\tuseRetrieval: false,\n",
    "\tfunctionMaps: new Dictionary<FunctionDefinition, Func<string, Task<string>>>\n",
    "\t{\n",
    "\t\t{ guessNumberFunctionDefinition, guessNumberFunc },\n",
    "\t}\n",
    ");\n",
    "\n",
    "var reply = await assistant.SendMessageAsync(\"guess a integer number between 1 and 10, and tell me the number once you guess it\");\n",
    "\n",
    "reply.PrettyPrintMessage();\n"
   ]
  },
  {
   "cell_type": "markdown",
   "metadata": {},
   "source": [
    "#### Remove `OpenAIAssistantAgent`\n",
    "\n",
    "You can remove the `OpenAI Assistant` from portal by calling `RemoveAssistantAsync`"
   ]
  },
  {
   "cell_type": "code",
   "execution_count": 7,
   "metadata": {
    "dotnet_interactive": {
     "language": "csharp"
    },
    "polyglot_notebook": {
     "kernelName": "csharp"
    },
    "vscode": {
     "languageId": "polyglot-notebook"
    }
   },
   "outputs": [
    {
     "ename": "Error",
     "evalue": "System.Exception: fail to remove assistant asst_k8UeTkDrSot05cxNFjyiwGbX\r\n   at AgentChat.OpenAI.OpenAIClientExtension.RemoveAssistantAsync(OpenAIClient client, String assistantId, Nullable`1 ct)\r\n   at Submission#8.<<Initialize>>d__0.MoveNext()\r\n--- End of stack trace from previous location ---\r\n   at Microsoft.CodeAnalysis.Scripting.ScriptExecutionState.RunSubmissionsAsync[TResult](ImmutableArray`1 precedingExecutors, Func`2 currentExecutor, StrongBox`1 exceptionHolderOpt, Func`2 catchExceptionOpt, CancellationToken cancellationToken)",
     "output_type": "error",
     "traceback": [
      "System.Exception: fail to remove assistant asst_k8UeTkDrSot05cxNFjyiwGbX\r\n",
      "   at AgentChat.OpenAI.OpenAIClientExtension.RemoveAssistantAsync(OpenAIClient client, String assistantId, Nullable`1 ct)\r\n",
      "   at Submission#8.<<Initialize>>d__0.MoveNext()\r\n",
      "--- End of stack trace from previous location ---\r\n",
      "   at Microsoft.CodeAnalysis.Scripting.ScriptExecutionState.RunSubmissionsAsync[TResult](ImmutableArray`1 precedingExecutors, Func`2 currentExecutor, StrongBox`1 exceptionHolderOpt, Func`2 catchExceptionOpt, CancellationToken cancellationToken)"
     ]
    }
   ],
   "source": [
    "// remove assistant\n",
    "await openAIClient.RemoveAssistantAsync(assistant.ID);\n",
    "\n",
    "// remove assistant with code interpreter\n",
    "await openAIClient.RemoveAssistantAsync(assistantWithCodeInterpreter.ID);"
   ]
  }
 ],
 "metadata": {
  "language_info": {
   "name": "python"
  }
 },
 "nbformat": 4,
 "nbformat_minor": 2
}
