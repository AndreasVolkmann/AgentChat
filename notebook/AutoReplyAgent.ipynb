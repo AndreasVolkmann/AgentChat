{
 "cells": [
  {
   "cell_type": "markdown",
   "metadata": {},
   "source": [
    "### AutoReplyAgent\n",
    "\n",
    "`AutoReplyAgent` is a special agent in `AgentChat` that created on top of an arbitray `IAgent`. It contains an inner agent and an auto-reply function. When replying, `AutoReplyAgent` will first call the auto-reply function to generate a reply. If the auto-reply function returns a reply, the reply will be used as the reply of the `AutoReplyAgent`. Otherwise, the inner agent will be called to generate a reply.\n",
    "\n",
    "`AutoReplyAgent` is useful when you want to have more control over how an agent replies under some circumstances. Or when you want to create a more general purpose agent that can reply to a wider range of messages on top of a list of task-specific agents.\n",
    "\n",
    "In this notebook, we will first introduce the basic usage of `AutoReplyAgent`. We will first show how to create an `AutoReplyAgent` that always use auto-reply function to generate a reply. Then we will show how to create an `AutoReplyAgent` that only use auto-reply function under certain conditions and uses its inner agent otherwise. Finally, we will show how to combine multiple agents into a single `AutoReplyAgent` to accomplish a more general purpose."
   ]
  },
  {
   "cell_type": "code",
   "execution_count": 3,
   "metadata": {
    "dotnet_interactive": {
     "language": "csharp"
    },
    "polyglot_notebook": {
     "kernelName": "csharp"
    },
    "vscode": {
     "languageId": "polyglot-notebook"
    }
   },
   "outputs": [
    {
     "data": {
      "text/html": [
       "<div><div><strong>Restore sources</strong><ul><li><span>https://www.myget.org/F/agentchat/api/v3/index.json</span></li></ul></div><div></div><div><strong>Installed Packages</strong><ul><li><span>AgentChat.DotnetInteractiveFunction, 0.3.1-6712552592</span></li><li><span>AgentChat.Example.Share, 0.3.1-6712552592</span></li><li><span>AgentChat.OpenAI, 0.3.1-6712552592</span></li></ul></div></div>"
      ]
     },
     "metadata": {},
     "output_type": "display_data"
    }
   ],
   "source": [
    "// Install dependencies\n",
    "#i \"nuget:https://www.myget.org/F/agentchat/api/v3/index.json\"\n",
    "\n",
    "#r \"nuget:AgentChat.OpenAI,*-*\"\n",
    "#r \"nuget:AgentChat.Example.Share,*-*\"\n",
    "// this package provides FunctionDefinition for `dotnet-interactive` command\n",
    "#r \"nuget:AgentChat.DotnetInteractiveFunction,*-*\""
   ]
  },
  {
   "cell_type": "markdown",
   "metadata": {},
   "source": [
    "### 1. Create an `AutoReplyAgent` that always use auto-reply function to generate a reply\n",
    "\n",
    "To prevent the inner agent from generating a reply, we just need to make sure the auto-reply function always returns a reply."
   ]
  },
  {
   "cell_type": "code",
   "execution_count": 18,
   "metadata": {
    "dotnet_interactive": {
     "language": "csharp"
    },
    "polyglot_notebook": {
     "kernelName": "csharp"
    },
    "vscode": {
     "languageId": "polyglot-notebook"
    }
   },
   "outputs": [
    {
     "name": "stdout",
     "output_type": "stream",
     "text": [
      "Message from gpt35\n",
      "--------------------\n",
      "Hello! How can I assist you today?\n",
      "--------------------\n",
      "\n",
      "Message from autoReply\n",
      "--------------------\n",
      "I don't want to talk to you\n",
      "--------------------\n",
      "\n"
     ]
    }
   ],
   "source": [
    "using AgentChat;\n",
    "using AgentChat.Example.Share;\n",
    "using AgentChat.OpenAI;\n",
    "\n",
    "var agent = Constant.GPT35.CreateAgent(\n",
    "    name: \"gpt35\",\n",
    "    roleInformation: \"You are a helpful AI assistant\",\n",
    "    temperature: 0);\n",
    "\n",
    "// create an AutoReplyAgent that don't want to talk\n",
    "var autoReplyAgent = agent.CreateAutoReplyAgent(\n",
    "    name: \"autoReply\",\n",
    "    autoReplyMessageFunc: async (message, ct) => {\n",
    "        // The autoReplyMessageFunc always return a message, therefore the inner agent will never be called.\n",
    "        return new Message(Role.Assistant, \"I don't want to talk to you\", from: \"autoReply\");\n",
    "    });\n",
    "\n",
    "var agentReply = await agent.SendMessageAsync(\"hi\");\n",
    "agentReply.PrettyPrintMessage();\n",
    "\n",
    "var autoReply = await autoReplyAgent.SendMessageAsync(\"hi\");\n",
    "autoReply.PrettyPrintMessage();"
   ]
  },
  {
   "cell_type": "markdown",
   "metadata": {},
   "source": [
    "### 2. use auto-reply to respond under certain circumstances\n",
    "\n",
    "In most of the cases, we only want to use auto-reply function to generate a reply under certain circumstances. To achieve this, we can return 'null' from the auto-reply function to indicate that the auto-reply function does not generate a reply. In this case, the inner agent will be called next to generate a reply."
   ]
  },
  {
   "cell_type": "code",
   "execution_count": 20,
   "metadata": {
    "dotnet_interactive": {
     "language": "csharp"
    },
    "polyglot_notebook": {
     "kernelName": "csharp"
    },
    "vscode": {
     "languageId": "polyglot-notebook"
    }
   },
   "outputs": [
    {
     "name": "stdout",
     "output_type": "stream",
     "text": [
      "Message from gpt35\n",
      "--------------------\n",
      "Hello! How can I assist you today?\n",
      "--------------------\n",
      "\n",
      "Message from autoReply\n",
      "--------------------\n",
      "I don't want to talk to you\n",
      "--------------------\n",
      "\n"
     ]
    }
   ],
   "source": [
    "// create an AutoReplyAgent that don't want to talk if the message is longer than 1\n",
    "var autoReplyAgent = agent.CreateAutoReplyAgent(\n",
    "    name: \"autoReply\",\n",
    "    autoReplyMessageFunc: async (message, ct) => {\n",
    "        if (message.Count() > 1){\n",
    "            return new Message(Role.Assistant, \"I don't want to talk to you\", from: \"autoReply\");\n",
    "        }\n",
    "\n",
    "        return null;\n",
    "    });\n",
    "\n",
    "// message count is 1, so the agent will reply\n",
    "var agentReply = await autoReplyAgent.SendMessageAsync(\"hi\");\n",
    "agentReply.PrettyPrintMessage();\n",
    "\n",
    "// message count is 2, the auto-reply function will return 'I don't want to talk to you' and the agent will not reply\n",
    "var chatHistory = new [] {\n",
    "    new Message(Role.User, \"hi\"),\n",
    "    new Message(Role.User, \"how's going\"),\n",
    "};\n",
    "agentReply = await autoReplyAgent.SendMessageAsync(chatHistory);\n",
    "agentReply.PrettyPrintMessage();"
   ]
  },
  {
   "cell_type": "markdown",
   "metadata": {},
   "source": [
    "### Scenario 1: I want to create an agent that can detect python and csharp code block. And reply 'no code block found' if no code block is detected.\n",
    "\n",
    "It's difficult to use a single agent to deal with different situations. The first challenge is to write an appropriate system prompt that work for all the situations. The second challenge is the increase complexity of prompt might make the llm response less robust.\n",
    "\n",
    "To address this issue, we can create multiple agents to deal with different situations. Then we can combine these agents into a single `AutoReplyAgent` to create a more general purpose agent. In the below example, we present how to use an `AutoReplyAgent` to combine two agents that can detect python and csharp code block respectively into a single agent."
   ]
  },
  {
   "cell_type": "code",
   "execution_count": 22,
   "metadata": {
    "dotnet_interactive": {
     "language": "csharp"
    },
    "polyglot_notebook": {
     "kernelName": "csharp"
    },
    "vscode": {
     "languageId": "polyglot-notebook"
    }
   },
   "outputs": [
    {
     "name": "stdout",
     "output_type": "stream",
     "text": [
      "Message from python\n",
      "--------------------\n",
      "No python code found\n",
      "--------------------\n",
      "\n",
      "Message from python\n",
      "--------------------\n",
      "[PYTHON CODE FOUND]\n",
      "--------------------\n",
      "\n"
     ]
    }
   ],
   "source": [
    "// python detect agent only detect if the last message contains python code block\n",
    "var pythonDetectAgent = Constant.GPT35.CreateAgent(\n",
    "    \"python\",\n",
    "    @\"You are a helpful AI assistant, you detect if the last message contains python code block.\n",
    "The python code block will be put between ```python and ```.\n",
    "If the last message contains python code block, you will reply '[PYTHON CODE FOUND]'.\n",
    "Otherwise, you will reply 'No python code found'\",\n",
    "    temperature: 0);\n",
    "\n",
    "// test with pythonDetectAgent\n",
    "var message = new Message(Role.User, \"hi\");\n",
    "var reply = await pythonDetectAgent.SendMessageAsync(message);\n",
    "reply.PrettyPrintMessage();\n",
    "\n",
    "var pythonMessage = new Message(Role.User, @\"\n",
    "```python\n",
    "print('hello world')\n",
    "```\");\n",
    "reply = await pythonDetectAgent.SendMessageAsync(pythonMessage);\n",
    "reply.PrettyPrintMessage();"
   ]
  },
  {
   "cell_type": "code",
   "execution_count": 24,
   "metadata": {
    "dotnet_interactive": {
     "language": "csharp"
    },
    "polyglot_notebook": {
     "kernelName": "csharp"
    },
    "vscode": {
     "languageId": "polyglot-notebook"
    }
   },
   "outputs": [
    {
     "name": "stdout",
     "output_type": "stream",
     "text": [
      "Message from csharp\n",
      "--------------------\n",
      "No csharp code found\n",
      "--------------------\n",
      "\n",
      "Message from csharp\n",
      "--------------------\n",
      "[CSHARP CODE FOUND]\n",
      "--------------------\n",
      "\n"
     ]
    }
   ],
   "source": [
    "// csharp detect agent only detect if the last message contains csharp code block\n",
    "var csharpDetectAgent = Constant.GPT35.CreateAgent(\n",
    "    \"csharp\",\n",
    "    @\"You are a helpful AI assistant, you detect if the last message contains csharp code block.\n",
    "The python code block will be put between ```csharp and ```.\n",
    "If the last message contains csharp code block, you will reply '[CSHARP CODE FOUND]'.\n",
    "Otherwise, you will reply 'No csharp code found'\",\n",
    "    temperature: 0);\n",
    "\n",
    "// test with csharpDetectAgent\n",
    "var message = new Message(Role.User, \"hi\");\n",
    "var reply = await csharpDetectAgent.SendMessageAsync(message);\n",
    "reply.PrettyPrintMessage();\n",
    "\n",
    "var pythonMessage = new Message(Role.User, @\"\n",
    "```csharp\n",
    "Console.WriteLine(\"\"hello world\"\")\n",
    "```\");\n",
    "reply = await csharpDetectAgent.SendMessageAsync(pythonMessage);\n",
    "reply.PrettyPrintMessage();"
   ]
  },
  {
   "cell_type": "code",
   "execution_count": 25,
   "metadata": {
    "dotnet_interactive": {
     "language": "csharp"
    },
    "polyglot_notebook": {
     "kernelName": "csharp"
    },
    "vscode": {
     "languageId": "polyglot-notebook"
    }
   },
   "outputs": [],
   "source": [
    "IAgent agent = Constant.GPT35.CreateAgent(\n",
    "    name: \"gpt35\",\n",
    "    roleInformation: \"You reply 'No code found' in any case\",\n",
    "    temperature: 0);\n",
    "\n",
    "// combine all the agents together to complete the code detection task.\n",
    "var alice = agent.CreateAutoReplyAgent(\n",
    "    name: \"Alice\",\n",
    "    autoReplyMessageFunc: async (messages, ct) => {\n",
    "        var lastMessage = messages.LastOrDefault();\n",
    "        // first check if the last message contains python code block\n",
    "        var pythonCodeBlockDetection = await pythonDetectAgent.SendMessageAsync(lastMessage);\n",
    "        if (pythonCodeBlockDetection.Content.Contains(\"[PYTHON CODE FOUND]\"))\n",
    "        {\n",
    "            return pythonCodeBlockDetection;\n",
    "        }\n",
    "        // then check if the last message contains csharp code block\n",
    "        var csharpCodeBlockDetection = await csharpDetectAgent.SendMessageAsync(lastMessage);\n",
    "        if (csharpCodeBlockDetection.Content.Contains(\"[CSHARP CODE FOUND]\"))\n",
    "        {\n",
    "            return csharpCodeBlockDetection;\n",
    "        }\n",
    "\n",
    "        // let the agent reply No code found\n",
    "        return null;\n",
    "    });"
   ]
  },
  {
   "cell_type": "code",
   "execution_count": 27,
   "metadata": {
    "dotnet_interactive": {
     "language": "csharp"
    },
    "polyglot_notebook": {
     "kernelName": "csharp"
    },
    "vscode": {
     "languageId": "polyglot-notebook"
    }
   },
   "outputs": [
    {
     "name": "stdout",
     "output_type": "stream",
     "text": [
      "Message from gpt35\n",
      "--------------------\n",
      "No code found\n",
      "--------------------\n",
      "\n",
      "Message from python\n",
      "--------------------\n",
      "[PYTHON CODE FOUND]\n",
      "--------------------\n",
      "\n",
      "Message from csharp\n",
      "--------------------\n",
      "[CSHARP CODE FOUND]\n",
      "--------------------\n",
      "\n"
     ]
    }
   ],
   "source": [
    "var message = new Message(Role.User, \"hi\");\n",
    "var reply = await alice.SendMessageAsync(message);\n",
    "reply.PrettyPrintMessage();\n",
    "\n",
    "var pythonMessage = new Message(Role.User, @\"\n",
    "```python\n",
    "print('hello world')\n",
    "```\");\n",
    "reply = await alice.SendMessageAsync(pythonMessage);\n",
    "reply.PrettyPrintMessage();\n",
    "\n",
    "var csharpMessage = new Message(Role.User, @\"\n",
    "```csharp\n",
    "Console.WriteLine(\"\"hello world\"\")\n",
    "```\");\n",
    "\n",
    "reply = await alice.SendMessageAsync(csharpMessage);\n",
    "reply.PrettyPrintMessage();"
   ]
  }
 ],
 "metadata": {
  "language_info": {
   "name": "python"
  }
 },
 "nbformat": 4,
 "nbformat_minor": 2
}
